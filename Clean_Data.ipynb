{
 "cells": [
  {
   "cell_type": "code",
   "execution_count": 1,
   "metadata": {},
   "outputs": [],
   "source": [
    "# Load libraries\n",
    "import pandas as pd\n",
    "import numpy as np\n",
    "import matplotlib.pyplot as plt"
   ]
  },
  {
   "cell_type": "code",
   "execution_count": 2,
   "metadata": {},
   "outputs": [],
   "source": [
    "# Load data\n",
    "doctors_data = pd.read_csv('doctors.csv')\n",
    "patients_data = pd.read_csv('patients.csv')\n",
    "orders_data = pd.read_csv('orders.csv')\n",
    "prescriptions_data = pd.read_csv('prescriptions.csv')\n",
    "states = pd.read_excel('State Code.xlsx')"
   ]
  },
  {
   "cell_type": "code",
   "execution_count": 3,
   "metadata": {},
   "outputs": [],
   "source": [
    "# Copy of data\n",
    "doctors = doctors_data.copy()\n",
    "patients = patients_data.copy()\n",
    "orders = orders_data.copy()\n",
    "prescriptions = prescriptions_data.copy()"
   ]
  },
  {
   "cell_type": "markdown",
   "metadata": {},
   "source": [
    "# Doctors"
   ]
  },
  {
   "cell_type": "code",
   "execution_count": 4,
   "metadata": {},
   "outputs": [
    {
     "name": "stdout",
     "output_type": "stream",
     "text": [
      "(2365, 4)\n",
      "DOCTOR_ID    object\n",
      "STATE        object\n",
      "SPECIALTY    object\n",
      "NAME         object\n",
      "dtype: object\n",
      "DOCTOR_ID     0\n",
      "STATE         0\n",
      "SPECIALTY    25\n",
      "NAME          0\n",
      "dtype: int64\n"
     ]
    }
   ],
   "source": [
    "# Understand the data\n",
    "print(doctors.shape)\n",
    "\n",
    "# Data types and missing values \n",
    "print(doctors.dtypes)\n",
    "print(doctors.isnull().sum())"
   ]
  },
  {
   "cell_type": "code",
   "execution_count": 5,
   "metadata": {},
   "outputs": [],
   "source": [
    "doctors = doctors.dropna(subset=['SPECIALTY'])"
   ]
  },
  {
   "cell_type": "code",
   "execution_count": 6,
   "metadata": {},
   "outputs": [
    {
     "name": "stdout",
     "output_type": "stream",
     "text": [
      "(2340, 4)\n"
     ]
    }
   ],
   "source": [
    "# Doctors Data\n",
    "print(doctors.shape)"
   ]
  },
  {
   "cell_type": "code",
   "execution_count": 7,
   "metadata": {},
   "outputs": [
    {
     "name": "stdout",
     "output_type": "stream",
     "text": [
      "Empty DataFrame\n",
      "Columns: [DOCTOR_ID, STATE, SPECIALTY, NAME]\n",
      "Index: []\n"
     ]
    }
   ],
   "source": [
    "# Find duplicate values in the 'DOCTOR_ID' column\n",
    "duplicates = doctors[doctors['DOCTOR_ID'].duplicated(keep=False)]\n",
    "print(duplicates)"
   ]
  },
  {
   "cell_type": "code",
   "execution_count": 8,
   "metadata": {},
   "outputs": [
    {
     "name": "stdout",
     "output_type": "stream",
     "text": [
      "0                                  Allergy & Immunology\n",
      "1                                        Anesthesiology\n",
      "2              Clinical Nurse Specialist, Family Health\n",
      "3                                           DERMATOLOGY\n",
      "4                                                  Derm\n",
      "5                                           Dermatology\n",
      "6                 Dermatology MOHS-Micrographic Surgery\n",
      "7                    Dermatology Procedural Dermatology\n",
      "8     Dermatology, Clinical & Laboratory Dermatologi...\n",
      "9                         Dermatology, Dermatopathology\n",
      "10               Dermatology, MOHS-Micrographic Surgery\n",
      "11                   Dermatology, Pediatric Dermatology\n",
      "12                  Dermatology, Procedural Dermatology\n",
      "13                                   Emergency Medicine\n",
      "14                                      Family Medicine\n",
      "15                      Family Medicine, Adult Medicine\n",
      "16                                    Internal Medicine\n",
      "17             Internal Medicine, Hematology & Oncology\n",
      "18         Internal Medicine, Interventional Cardiology\n",
      "19                        Internal Medicine, Nephrology\n",
      "20                      Internal Medicine, Rheumatology\n",
      "21                                       Legal Medicine\n",
      "22                                 Neurological Surgery\n",
      "23                                   Nurse Practitioner\n",
      "24                            Nurse Practitioner Family\n",
      "25                       Nurse Practitioner, Acute Care\n",
      "26                     Nurse Practitioner, Adult Health\n",
      "27                           Nurse Practitioner, Family\n",
      "28                       Nurse Practitioner, Pediatrics\n",
      "29                     Nurse Practitioner, Primary Care\n",
      "30                   Nurse Practitioner, Women's Health\n",
      "31                              Obstetrics & Gynecology\n",
      "32                  Obstetrics & Gynecology, Obstetrics\n",
      "33                                  Orthopaedic Surgery\n",
      "34    Pathology, Anatomic Pathology & Clinical Patho...\n",
      "35                                           Pediatrics\n",
      "36                                  Physician Assistant\n",
      "37                          Physician Assistant Medical\n",
      "38                         Physician Assistant, Medical\n",
      "39                        Physician Assistant, Surgical\n",
      "40                                         Primary Care\n",
      "41                                           Specialist\n",
      "42    Student in an Organized Health Care Education/...\n",
      "43                                              Surgery\n",
      "44          Surgery, Plastic and Reconstructive Surgery\n",
      "dtype: object\n"
     ]
    }
   ],
   "source": [
    "# Unique Values in Speciality\n",
    "unique_spec = pd.Series(doctors['SPECIALTY'].unique())\n",
    "sorted_unique_spec = unique_spec.sort_values(ascending=True).reset_index(drop=True)\n",
    "\n",
    "# Print the sorted unique values\n",
    "print(sorted_unique_spec)"
   ]
  },
  {
   "cell_type": "code",
   "execution_count": 9,
   "metadata": {},
   "outputs": [],
   "source": [
    "# Clean Doctors - Speciality Column\n",
    "# Replace 'Derm' with 'Dermatology', 'DERMATOLOGY' to 'Dermatology'\n",
    "doctors['SPECIALTY'] = doctors['SPECIALTY'].str.replace(r'\\bDerm\\b', 'Dermatology', case=False, regex=True)\n",
    "doctors['SPECIALTY'] = doctors['SPECIALTY'].str.replace(r'\\bDERMATOLOGY\\b', 'Dermatology', regex=True)\n",
    "\n",
    "# Add a comma after 'Dermatology' if followed by another word and no comma exists\n",
    "doctors['SPECIALTY'] = doctors['SPECIALTY'].str.replace(r'\\b(Dermatology)(?!,)(\\s\\w)', r'\\1,\\2', regex=True)\n",
    "\n",
    "# Similarly for 'Nurse Practitioner'\n",
    "doctors['SPECIALTY'] = doctors['SPECIALTY'].str.replace(r'\\b(Nurse Practitioner)(?!,)(\\s\\w)', r'\\1,\\2', regex=True)\n",
    "\n",
    "# Similarly for 'Physician Assistant'\n",
    "doctors['SPECIALTY'] = doctors['SPECIALTY'].str.replace(r'\\b(Physician Assistant)(?!,)(\\s\\w)', r'\\1,\\2', regex=True)\n"
   ]
  },
  {
   "cell_type": "code",
   "execution_count": 10,
   "metadata": {},
   "outputs": [],
   "source": [
    "# Unique Values in Speciality\n",
    "unique_spec_1 = pd.Series(doctors['SPECIALTY'].unique())\n",
    "sorted_unique_spec_1 = unique_spec_1.sort_values(ascending=True).reset_index(drop=True)\n",
    "\n",
    "# Print the sorted unique values\n",
    "#print(sorted_unique_spec_1)"
   ]
  },
  {
   "cell_type": "code",
   "execution_count": 11,
   "metadata": {},
   "outputs": [
    {
     "name": "stdout",
     "output_type": "stream",
     "text": [
      "                  DOCTOR_ID STATE    SPECIALTY              NAME  \\\n",
      "0  66071f4f58fe938fe8664e72    TX  Dermatology     Doctor Kanita   \n",
      "1  5de95803e4da290001799f31    NC  Dermatology     Doctor Jeania   \n",
      "2  63ed08544765a5b0f7484f28    IA  Dermatology    Doctor Jelissa   \n",
      "3  6620572517788cba6d2df4e1    TX   Specialist  Doctor Chaquitta   \n",
      "4  66301146d50875fd2468580d    DC  Dermatology    Doctor Cherity   \n",
      "\n",
      "  Primary_Speciality Sub_Speciality  \n",
      "0        Dermatology                 \n",
      "1        Dermatology                 \n",
      "2        Dermatology                 \n",
      "3         Specialist                 \n",
      "4        Dermatology                 \n"
     ]
    }
   ],
   "source": [
    "# Splitting the specialties into two columns\n",
    "split_speciality = [line.split(\", \") if \", \" in line else [line, \"\"] for line in doctors['SPECIALTY']]\n",
    "\n",
    "# Convert to DataFrame\n",
    "split_speciality_df = pd.DataFrame(split_speciality, columns=[\"Primary_Speciality\", \"Sub_Speciality\"])\n",
    "\n",
    "# Combine the new DataFrame with the original DataFrame\n",
    "doctors = pd.concat([doctors.reset_index(drop=True), split_speciality_df], axis=1)\n",
    "print(doctors.head())   "
   ]
  },
  {
   "cell_type": "code",
   "execution_count": 12,
   "metadata": {},
   "outputs": [],
   "source": [
    "# Combine Doctors with States in State_Code\n",
    "doctors = pd.merge(doctors, states, left_on='STATE', right_on='STATE_CODE' , how='left')\n",
    "doctors = doctors.drop(columns=['STATE'])"
   ]
  },
  {
   "cell_type": "code",
   "execution_count": 13,
   "metadata": {},
   "outputs": [
    {
     "name": "stdout",
     "output_type": "stream",
     "text": [
      "                     DOCTOR_ID                     SPECIALTY  \\\n",
      "0     66071f4f58fe938fe8664e72                   Dermatology   \n",
      "1     5de95803e4da290001799f31                   Dermatology   \n",
      "2     63ed08544765a5b0f7484f28                   Dermatology   \n",
      "3     6620572517788cba6d2df4e1                    Specialist   \n",
      "4     66301146d50875fd2468580d                   Dermatology   \n",
      "...                        ...                           ...   \n",
      "2335  667c870b58dd1586be00e66a                   Dermatology   \n",
      "2336  667dcc55bc88eda7ae49de8c  Physician Assistant, Medical   \n",
      "2337  669955b5291eb227ef45a4d8  Physician Assistant, Medical   \n",
      "2338  5b2a8ceee935f000a99e59e3                   Dermatology   \n",
      "2339  63939a91485733fab8097918    Nurse Practitioner, Family   \n",
      "\n",
      "                  NAME   Primary_Speciality Sub_Speciality  \\\n",
      "0        Doctor Kanita          Dermatology                  \n",
      "1        Doctor Jeania          Dermatology                  \n",
      "2       Doctor Jelissa          Dermatology                  \n",
      "3     Doctor Chaquitta           Specialist                  \n",
      "4       Doctor Cherity          Dermatology                  \n",
      "...                ...                  ...            ...   \n",
      "2335   Doctor Applonia          Dermatology                  \n",
      "2336         Doctor Cj  Physician Assistant        Medical   \n",
      "2337    Doctor Kabrina  Physician Assistant        Medical   \n",
      "2338      Doctor Jonel          Dermatology                  \n",
      "2339   Doctor Danialle   Nurse Practitioner         Family   \n",
      "\n",
      "                STATE_NAME STATE_CODE GEOGRAPHICAL_REGIONS  \n",
      "0                    Texas         TX        South Central  \n",
      "1           North Carolina         NC            Southeast  \n",
      "2                     Iowa         IA              Midwest  \n",
      "3                    Texas         TX        South Central  \n",
      "4     District of Columbia         DC         Mid-Atlantic  \n",
      "...                    ...        ...                  ...  \n",
      "2335         Massachusetts         MA            Northeast  \n",
      "2336          Pennsylvania         PA            Northeast  \n",
      "2337        North Carolina         NC            Southeast  \n",
      "2338               Florida         FL            Southeast  \n",
      "2339            New Mexico         NM            Southwest  \n",
      "\n",
      "[2340 rows x 8 columns]\n"
     ]
    }
   ],
   "source": [
    "# Doctors Data\n",
    "print(doctors)"
   ]
  },
  {
   "cell_type": "code",
   "execution_count": 14,
   "metadata": {},
   "outputs": [
    {
     "name": "stdout",
     "output_type": "stream",
     "text": [
      "Empty DataFrame\n",
      "Columns: [DOCTOR_ID, SPECIALTY, NAME, Primary_Speciality, Sub_Speciality, STATE_NAME, STATE_CODE, GEOGRAPHICAL_REGIONS]\n",
      "Index: []\n"
     ]
    }
   ],
   "source": [
    "# Check for duplicates\n",
    "check_duplicates_doctors = doctors[doctors.duplicated()]\n",
    "print(check_duplicates_doctors)"
   ]
  },
  {
   "cell_type": "code",
   "execution_count": 15,
   "metadata": {},
   "outputs": [
    {
     "name": "stdout",
     "output_type": "stream",
     "text": [
      "                       DOCTOR_ID    SPECIALTY             NAME  \\\n",
      "count                       2340         2340             2340   \n",
      "unique                      2340           39              415   \n",
      "top     66071f4f58fe938fe8664e72  Dermatology  Doctor Jerrilyn   \n",
      "freq                           1         1168               14   \n",
      "\n",
      "       Primary_Speciality Sub_Speciality STATE_NAME STATE_CODE  \\\n",
      "count                2340           2340       2339       2339   \n",
      "unique                 19             23         48         48   \n",
      "top           Dermatology                   Florida         FL   \n",
      "freq                 1234           1890        264        264   \n",
      "\n",
      "       GEOGRAPHICAL_REGIONS  \n",
      "count                  2339  \n",
      "unique                    9  \n",
      "top               Southeast  \n",
      "freq                    600  \n"
     ]
    }
   ],
   "source": [
    "print(doctors.describe())"
   ]
  },
  {
   "cell_type": "code",
   "execution_count": 16,
   "metadata": {},
   "outputs": [
    {
     "name": "stdout",
     "output_type": "stream",
     "text": [
      "SPECIALTY\n",
      "Dermatology                                                       1168\n",
      "Physician Assistant                                                534\n",
      "Physician Assistant, Medical                                       171\n",
      "Nurse Practitioner, Family                                         164\n",
      "Nurse Practitioner                                                  64\n",
      "Specialist                                                          49\n",
      "Student in an Organized Health Care Education/Training Program      30\n",
      "Dermatology, Procedural Dermatology                                 23\n",
      "Dermatology, MOHS-Micrographic Surgery                              23\n",
      "Family Medicine                                                     19\n",
      "Physician Assistant, Surgical                                       15\n",
      "Nurse Practitioner, Adult Health                                    12\n",
      "Dermatology, Dermatopathology                                       11\n",
      "Dermatology, Pediatric Dermatology                                   7\n",
      "Internal Medicine                                                    7\n",
      "Nurse Practitioner, Primary Care                                     4\n",
      "Nurse Practitioner, Women's Health                                   4\n",
      "Primary Care                                                         4\n",
      "Obstetrics & Gynecology                                              3\n",
      "Emergency Medicine                                                   3\n",
      "Pediatrics                                                           2\n",
      "Dermatology, Clinical & Laboratory Dermatological Immunology         2\n",
      "Nurse Practitioner, Acute Care                                       2\n",
      "Allergy & Immunology                                                 2\n",
      "Clinical Nurse Specialist, Family Health                             2\n",
      "Nurse Practitioner, Pediatrics                                       2\n",
      "Anesthesiology                                                       1\n",
      "Internal Medicine, Hematology & Oncology                             1\n",
      "Internal Medicine, Nephrology                                        1\n",
      "Orthopaedic Surgery                                                  1\n",
      "Surgery, Plastic and Reconstructive Surgery                          1\n",
      "Family Medicine, Adult Medicine                                      1\n",
      "Surgery                                                              1\n",
      "Obstetrics & Gynecology, Obstetrics                                  1\n",
      "Neurological Surgery                                                 1\n",
      "Internal Medicine, Rheumatology                                      1\n",
      "Internal Medicine, Interventional Cardiology                         1\n",
      "Legal Medicine                                                       1\n",
      "Pathology, Anatomic Pathology & Clinical Pathology                   1\n",
      "Name: count, dtype: int64\n"
     ]
    }
   ],
   "source": [
    "speciality_counts = doctors['SPECIALTY'].value_counts()\n",
    "print(speciality_counts)"
   ]
  },
  {
   "cell_type": "markdown",
   "metadata": {},
   "source": [
    "# Patients"
   ]
  },
  {
   "cell_type": "code",
   "execution_count": 17,
   "metadata": {},
   "outputs": [
    {
     "name": "stdout",
     "output_type": "stream",
     "text": [
      "(8401, 2)\n",
      "PATIENT_ID       object\n",
      "DATE_OF_BIRTH    object\n",
      "dtype: object\n",
      "PATIENT_ID       0\n",
      "DATE_OF_BIRTH    0\n",
      "dtype: int64\n"
     ]
    }
   ],
   "source": [
    "# Understand the data\n",
    "print(patients.shape)\n",
    "\n",
    "# Data types and missing values \n",
    "print(patients.dtypes)\n",
    "print(patients.isnull().sum())"
   ]
  },
  {
   "cell_type": "code",
   "execution_count": 18,
   "metadata": {},
   "outputs": [
    {
     "name": "stdout",
     "output_type": "stream",
     "text": [
      "                 PATIENT_ID              DATE_OF_BIRTH\n",
      "0  66071f4f58fe938fe8664e77  2006-09-01 07:00:00.000 Z\n",
      "1  6672f605d8530844ea1de36b  2000-09-12 07:00:00.000 Z\n",
      "2  660333c3ff0fafacca86fd99  1987-09-05 04:00:00.000 Z\n",
      "3  661e83d9ba12b268aaab965a  1996-05-08 07:00:00.000 Z\n",
      "4  6621b5ac7d64852edc6f66da  2009-09-11 08:00:00.000 Z\n"
     ]
    }
   ],
   "source": [
    "# Patients Data\n",
    "print(patients.head())"
   ]
  },
  {
   "cell_type": "code",
   "execution_count": 19,
   "metadata": {},
   "outputs": [
    {
     "name": "stdout",
     "output_type": "stream",
     "text": [
      "Empty DataFrame\n",
      "Columns: [PATIENT_ID, DATE_OF_BIRTH]\n",
      "Index: []\n"
     ]
    }
   ],
   "source": [
    "# Find duplicate values in the 'PATIENT_ID' column\n",
    "duplicates_patients = patients[patients['PATIENT_ID'].duplicated(keep=False)]\n",
    "print(duplicates_patients)"
   ]
  },
  {
   "cell_type": "code",
   "execution_count": 20,
   "metadata": {},
   "outputs": [
    {
     "name": "stdout",
     "output_type": "stream",
     "text": [
      "Empty DataFrame\n",
      "Columns: [PATIENT_ID, DATE_OF_BIRTH]\n",
      "Index: []\n"
     ]
    }
   ],
   "source": [
    "# Check for duplicates\n",
    "check_duplicates_patients = patients[patients.duplicated()]\n",
    "print(check_duplicates_patients)"
   ]
  },
  {
   "cell_type": "code",
   "execution_count": 21,
   "metadata": {},
   "outputs": [
    {
     "name": "stdout",
     "output_type": "stream",
     "text": [
      "                    PATIENT_ID       DATE_OF_BIRTH\n",
      "0     66071f4f58fe938fe8664e77 2006-09-01 07:00:00\n",
      "1     6672f605d8530844ea1de36b 2000-09-12 07:00:00\n",
      "2     660333c3ff0fafacca86fd99 1987-09-05 04:00:00\n",
      "3     661e83d9ba12b268aaab965a 1996-05-08 07:00:00\n",
      "4     6621b5ac7d64852edc6f66da 2009-09-11 08:00:00\n",
      "...                        ...                 ...\n",
      "8396  668bfcc0a75633d06ff22454 1976-07-31 07:00:00\n",
      "8397  665767ea44f420234535ae56 1998-02-20 05:00:00\n",
      "8398  6660a8bba4ef24bb840859b0 2007-12-19 05:00:00\n",
      "8399  6660741c59fda04e6d5b2ba9 2004-02-17 05:00:00\n",
      "8400  668c1250a75633d06ff2aa8b 2002-10-26 04:00:00\n",
      "\n",
      "[8401 rows x 2 columns]\n"
     ]
    }
   ],
   "source": [
    "# Remove the timezone indicator ' Z'\n",
    "patients['DATE_OF_BIRTH'] = patients['DATE_OF_BIRTH'].str.replace(' Z', '')\n",
    "\n",
    "# Convert to datetime without timezone information\n",
    "patients['DATE_OF_BIRTH'] = pd.to_datetime(patients['DATE_OF_BIRTH'], format='%Y-%m-%d %H:%M:%S.%f', errors='coerce')\n",
    "print(patients)"
   ]
  },
  {
   "cell_type": "markdown",
   "metadata": {},
   "source": [
    "#### Age Calculation"
   ]
  },
  {
   "cell_type": "code",
   "execution_count": 22,
   "metadata": {},
   "outputs": [
    {
     "name": "stdout",
     "output_type": "stream",
     "text": [
      "                    PATIENT_ID       DATE_OF_BIRTH   AGE\n",
      "0     66071f4f58fe938fe8664e77 2006-09-01 07:00:00  18.0\n",
      "1     6672f605d8530844ea1de36b 2000-09-12 07:00:00  24.0\n",
      "2     660333c3ff0fafacca86fd99 1987-09-05 04:00:00  37.0\n",
      "3     661e83d9ba12b268aaab965a 1996-05-08 07:00:00  28.0\n",
      "4     6621b5ac7d64852edc6f66da 2009-09-11 08:00:00  15.0\n",
      "...                        ...                 ...   ...\n",
      "8396  668bfcc0a75633d06ff22454 1976-07-31 07:00:00  48.0\n",
      "8397  665767ea44f420234535ae56 1998-02-20 05:00:00  26.0\n",
      "8398  6660a8bba4ef24bb840859b0 2007-12-19 05:00:00  17.0\n",
      "8399  6660741c59fda04e6d5b2ba9 2004-02-17 05:00:00  20.0\n",
      "8400  668c1250a75633d06ff2aa8b 2002-10-26 04:00:00  22.0\n",
      "\n",
      "[8401 rows x 3 columns]\n"
     ]
    }
   ],
   "source": [
    "# Define the reference date\n",
    "reference_date = pd.to_datetime('2024-08-05')\n",
    "\n",
    "# Calculate the age as of the reference date\n",
    "patients[\"AGE\"] = ((reference_date - patients[\"DATE_OF_BIRTH\"]).dt.days)/ 365.25\n",
    "\n",
    "# Round the age to two decimal points\n",
    "patients[\"AGE\"] = patients[\"AGE\"].round()\n",
    "\n",
    "print(patients)"
   ]
  },
  {
   "cell_type": "code",
   "execution_count": 23,
   "metadata": {},
   "outputs": [
    {
     "name": "stdout",
     "output_type": "stream",
     "text": [
      "                    PATIENT_ID       DATE_OF_BIRTH   AGE  \\\n",
      "0     66071f4f58fe938fe8664e77 2006-09-01 07:00:00  18.0   \n",
      "1     6672f605d8530844ea1de36b 2000-09-12 07:00:00  24.0   \n",
      "2     660333c3ff0fafacca86fd99 1987-09-05 04:00:00  37.0   \n",
      "3     661e83d9ba12b268aaab965a 1996-05-08 07:00:00  28.0   \n",
      "4     6621b5ac7d64852edc6f66da 2009-09-11 08:00:00  15.0   \n",
      "...                        ...                 ...   ...   \n",
      "8396  668bfcc0a75633d06ff22454 1976-07-31 07:00:00  48.0   \n",
      "8397  665767ea44f420234535ae56 1998-02-20 05:00:00  26.0   \n",
      "8398  6660a8bba4ef24bb840859b0 2007-12-19 05:00:00  17.0   \n",
      "8399  6660741c59fda04e6d5b2ba9 2004-02-17 05:00:00  20.0   \n",
      "8400  668c1250a75633d06ff2aa8b 2002-10-26 04:00:00  22.0   \n",
      "\n",
      "                          Age_Group  \n",
      "0         Young Adult (18-24 years)  \n",
      "1         Young Adult (18-24 years)  \n",
      "2       Mid Adulthood (35-49 years)  \n",
      "3     Early Adulthood (25-34 years)  \n",
      "4            Teenager (12-17 years)  \n",
      "...                             ...  \n",
      "8396    Mid Adulthood (35-49 years)  \n",
      "8397  Early Adulthood (25-34 years)  \n",
      "8398         Teenager (12-17 years)  \n",
      "8399      Young Adult (18-24 years)  \n",
      "8400      Young Adult (18-24 years)  \n",
      "\n",
      "[8401 rows x 4 columns]\n"
     ]
    }
   ],
   "source": [
    "# Function to determine age group\n",
    "def age_bracket(age):\n",
    "    if age <= 1:\n",
    "        return 'Infant (0-1 years)'\n",
    "    elif 1 < age <= 3:\n",
    "        return 'Toddler (1-3 years)'\n",
    "    elif 3 < age <= 5:\n",
    "        return 'Preschooler (3-5 years)'\n",
    "    elif 5 < age <= 8:\n",
    "        return 'Early Elementary (6-8 years)'\n",
    "    elif 8 < age <= 11:\n",
    "        return 'Late Elementary (9-11 years)'\n",
    "    elif 11 < age <= 17:\n",
    "        return 'Teenager (12-17 years)'\n",
    "    elif 17 < age <= 24:\n",
    "        return 'Young Adult (18-24 years)'\n",
    "    elif 24 < age <= 34:\n",
    "        return 'Early Adulthood (25-34 years)'\n",
    "    elif 34 < age <= 49:\n",
    "        return 'Mid Adulthood (35-49 years)'\n",
    "    elif 49 < age <= 64:\n",
    "        return 'Late Adulthood (50-64 years)'\n",
    "    else:\n",
    "        return 'Senior (65+ years)'\n",
    "\n",
    "# Apply function to create Age Bracket column\n",
    "patients['Age_Group'] = patients['AGE'].apply(age_bracket)\n",
    "\n",
    "print(patients)\n"
   ]
  },
  {
   "cell_type": "markdown",
   "metadata": {},
   "source": [
    "# Prescription"
   ]
  },
  {
   "cell_type": "code",
   "execution_count": 24,
   "metadata": {},
   "outputs": [
    {
     "name": "stdout",
     "output_type": "stream",
     "text": [
      "(9208, 4)\n",
      "PRESCRIPTION_ID            object\n",
      "PATIENT_ID                 object\n",
      "DOCTOR_ID                  object\n",
      "PRESCRIPTION_WRITTEN_AT    object\n",
      "dtype: object\n",
      "PRESCRIPTION_ID            0\n",
      "PATIENT_ID                 0\n",
      "DOCTOR_ID                  0\n",
      "PRESCRIPTION_WRITTEN_AT    0\n",
      "dtype: int64\n"
     ]
    }
   ],
   "source": [
    "# Understand the data\n",
    "print(prescriptions.shape)\n",
    "\n",
    "# Data types and missing values \n",
    "print(prescriptions.dtypes)\n",
    "print(prescriptions.isnull().sum())"
   ]
  },
  {
   "cell_type": "code",
   "execution_count": 25,
   "metadata": {},
   "outputs": [
    {
     "name": "stdout",
     "output_type": "stream",
     "text": [
      "Empty DataFrame\n",
      "Columns: [PRESCRIPTION_ID, PATIENT_ID, DOCTOR_ID, PRESCRIPTION_WRITTEN_AT]\n",
      "Index: []\n"
     ]
    }
   ],
   "source": [
    "# Check for duplicates\n",
    "check_duplicates_prescriptions = prescriptions[prescriptions.duplicated()]\n",
    "print(check_duplicates_prescriptions)"
   ]
  },
  {
   "cell_type": "code",
   "execution_count": 26,
   "metadata": {},
   "outputs": [
    {
     "name": "stdout",
     "output_type": "stream",
     "text": [
      "            PRESCRIPTION_ID                PATIENT_ID  \\\n",
      "0  6614201bb3fe6df48d3e92f0  6614201bb3fe6df48d3e92ed   \n",
      "1  664cde23600e7e3f254eebdb  664cde23600e7e3f254eebd6   \n",
      "2  6655fc2edb2d27ccb657f4ee  664cde23600e7e3f254eebd6   \n",
      "3  667af276b220091a8df2cf80  667af276b220091a8df2cf7c   \n",
      "4  65272a2a8fcaa8936d7ec02e  65272a2a8fcaa8936d7ec02a   \n",
      "\n",
      "                  DOCTOR_ID    PRESCRIPTION_WRITTEN_AT  \n",
      "0  6614201bb3fe6df48d3e92e8  2024-04-05 16:00:00.000 Z  \n",
      "1  5d4c36f60f567e0001349e45  2024-05-21 16:00:00.000 Z  \n",
      "2  5d4c36f60f567e0001349e45  2024-05-27 16:00:00.000 Z  \n",
      "3  667af276b220091a8df2cf77  2024-06-24 16:00:00.000 Z  \n",
      "4  64919e368eacb3e62521fc66  2024-04-08 16:00:00.000 Z  \n"
     ]
    }
   ],
   "source": [
    "# Prescriptions Data\n",
    "print(prescriptions.head())"
   ]
  },
  {
   "cell_type": "code",
   "execution_count": 27,
   "metadata": {},
   "outputs": [
    {
     "name": "stdout",
     "output_type": "stream",
     "text": [
      "(8778, 4)\n",
      "(429, 4)\n"
     ]
    }
   ],
   "source": [
    "# Remove the timezone indicator ' Z'\n",
    "prescriptions['PRESCRIPTION_WRITTEN_AT'] = prescriptions['PRESCRIPTION_WRITTEN_AT'].str.replace(' Z', '')\n",
    "\n",
    "# Convert to datetime without timezone information\n",
    "prescriptions['PRESCRIPTION_WRITTEN_AT'] = pd.to_datetime(prescriptions['PRESCRIPTION_WRITTEN_AT'], format='%Y-%m-%d %H:%M:%S.%f', errors='coerce')\n",
    "\n",
    "# Filter out prescriptions written before January 1, 2024\n",
    "filtered_prescriptions = prescriptions[prescriptions['PRESCRIPTION_WRITTEN_AT'] >= '2024-01-01']\n",
    "filtered_prescriptions_before_2024 = prescriptions[prescriptions['PRESCRIPTION_WRITTEN_AT'] < '2024-01-01']\n",
    "\n",
    "print(filtered_prescriptions.shape)\n",
    "print(filtered_prescriptions_before_2024.shape)"
   ]
  },
  {
   "cell_type": "markdown",
   "metadata": {},
   "source": [
    "# Orders"
   ]
  },
  {
   "cell_type": "code",
   "execution_count": 28,
   "metadata": {},
   "outputs": [
    {
     "name": "stdout",
     "output_type": "stream",
     "text": [
      "(12633, 6)\n",
      "ORDER_ID               object\n",
      "PRESCRIPTION_ID        object\n",
      "INSURANCE_COVERAGE     object\n",
      "DAYS_OF_SUPPLY        float64\n",
      "CREATED_AT             object\n",
      "SHIPPED_AT             object\n",
      "dtype: object\n",
      "ORDER_ID                 0\n",
      "PRESCRIPTION_ID          0\n",
      "INSURANCE_COVERAGE    2555\n",
      "DAYS_OF_SUPPLY          19\n",
      "CREATED_AT               0\n",
      "SHIPPED_AT            5261\n",
      "dtype: int64\n"
     ]
    }
   ],
   "source": [
    "# Understand the data\n",
    "print(orders.shape)\n",
    "\n",
    "# Data types and missing values \n",
    "print(orders.dtypes)\n",
    "print(orders.isnull().sum())"
   ]
  },
  {
   "cell_type": "code",
   "execution_count": 29,
   "metadata": {},
   "outputs": [],
   "source": [
    "orders = orders.dropna(subset=['DAYS_OF_SUPPLY'])"
   ]
  },
  {
   "cell_type": "code",
   "execution_count": 30,
   "metadata": {},
   "outputs": [
    {
     "name": "stdout",
     "output_type": "stream",
     "text": [
      "                   ORDER_ID           PRESCRIPTION_ID INSURANCE_COVERAGE  \\\n",
      "0  66071f4f58fe938fe8664e7c  66071f4f58fe938fe8664e7b         notCovered   \n",
      "1  66982e8e2fcd3bdb965f0e66  66982e8e2fcd3bdb965f0e65         notCovered   \n",
      "2  6672f606d8530844ea1de370  6672f606d8530844ea1de36f         notCovered   \n",
      "3  660333c4ff0fafacca86fdb0  660333c4ff0fafacca86fdaf         notCovered   \n",
      "4  6647057faf80dec36e54b16f  661e83d9ba12b268aaab965e         notCovered   \n",
      "\n",
      "   DAYS_OF_SUPPLY                 CREATED_AT                 SHIPPED_AT  \n",
      "0            30.0  2024-03-29 20:06:39.983 Z                        NaN  \n",
      "1            30.0  2024-07-17 20:50:22.973 Z                        NaN  \n",
      "2            30.0  2024-06-19 15:15:18.009 Z  2024-07-23 18:40:46.900 Z  \n",
      "3            30.0  2024-03-26 20:44:52.492 Z                        NaN  \n",
      "4            30.0  2024-05-17 07:21:35.910 Z  2024-05-21 18:59:59.728 Z  \n"
     ]
    }
   ],
   "source": [
    "# Orders Data\n",
    "print(orders.head())"
   ]
  },
  {
   "cell_type": "code",
   "execution_count": 31,
   "metadata": {},
   "outputs": [
    {
     "name": "stdout",
     "output_type": "stream",
     "text": [
      "Empty DataFrame\n",
      "Columns: [ORDER_ID, PRESCRIPTION_ID, INSURANCE_COVERAGE, DAYS_OF_SUPPLY, CREATED_AT, SHIPPED_AT]\n",
      "Index: []\n"
     ]
    }
   ],
   "source": [
    "# Check for duplicates\n",
    "check_duplicates_orders = orders[orders.duplicated()]\n",
    "print(check_duplicates_orders)"
   ]
  },
  {
   "cell_type": "code",
   "execution_count": 32,
   "metadata": {},
   "outputs": [
    {
     "name": "stdout",
     "output_type": "stream",
     "text": [
      "                       ORDER_ID           PRESCRIPTION_ID INSURANCE_COVERAGE  \\\n",
      "17     666a3a6a98b448fdc5411981  666a3a6a98b448fdc5411980                NaN   \n",
      "24     66a7be4318ebca2e879cfed0  66a7be4318ebca2e879cfecf                NaN   \n",
      "32     66588d5386e94bd4c50bc721  66588d5386e94bd4c50bc720                NaN   \n",
      "34     6693d7fd6438dbbbe92bffec  6693d7fd6438dbbbe92bffeb                NaN   \n",
      "43     660b35391202af7e1eb16908  660b35391202af7e1eb16907                NaN   \n",
      "...                         ...                       ...                ...   \n",
      "12621  661ea52a8ef6a2c44298d341  661ea52a8ef6a2c44298d340                NaN   \n",
      "12624  65c40ec5aaa2109f04513972  65c40ec5aaa2109f04513971                NaN   \n",
      "12627  668439b304605bb8409bc677  668439b304605bb8409bc676                NaN   \n",
      "12628  668bfcc1a75633d06ff22459  668bfcc1a75633d06ff22458                NaN   \n",
      "12632  668c1251a75633d06ff2aa91  668c1251a75633d06ff2aa90                NaN   \n",
      "\n",
      "       DAYS_OF_SUPPLY                 CREATED_AT SHIPPED_AT  \n",
      "17               30.0  2024-06-13 00:16:42.116 Z        NaN  \n",
      "24               30.0  2024-07-29 16:07:31.641 Z        NaN  \n",
      "32               30.0  2024-05-30 14:29:39.816 Z        NaN  \n",
      "34               30.0  2024-07-14 13:51:57.714 Z        NaN  \n",
      "43               30.0  2024-04-01 22:29:13.678 Z        NaN  \n",
      "...               ...                        ...        ...  \n",
      "12621            30.0  2024-04-16 16:19:54.290 Z        NaN  \n",
      "12624            30.0  2024-02-07 23:14:13.990 Z        NaN  \n",
      "12627            30.0  2024-07-02 17:32:35.212 Z        NaN  \n",
      "12628            30.0  2024-07-08 14:50:41.017 Z        NaN  \n",
      "12632            30.0  2024-07-08 16:22:41.731 Z        NaN  \n",
      "\n",
      "[2536 rows x 6 columns]\n"
     ]
    }
   ],
   "source": [
    "# Identify rows with missing values in 'INSURANCE_COVERAGE'\n",
    "print(orders[orders['INSURANCE_COVERAGE'].isna()])"
   ]
  },
  {
   "cell_type": "code",
   "execution_count": 33,
   "metadata": {},
   "outputs": [],
   "source": [
    "# Replace missing values in 'INSURANCE_COVERAGE' with 'No insurance'\n",
    "orders['INSURANCE_COVERAGE'] = orders['INSURANCE_COVERAGE'].fillna('No_insurance')"
   ]
  },
  {
   "cell_type": "code",
   "execution_count": 34,
   "metadata": {},
   "outputs": [
    {
     "name": "stdout",
     "output_type": "stream",
     "text": [
      "(5242, 6)\n"
     ]
    }
   ],
   "source": [
    "# Identify rows with missing values in 'SHIPPED_AT'\n",
    "missing_shipped_at = orders[orders['SHIPPED_AT'].isna()]\n",
    "print(missing_shipped_at.shape)"
   ]
  },
  {
   "cell_type": "code",
   "execution_count": 35,
   "metadata": {},
   "outputs": [
    {
     "name": "stdout",
     "output_type": "stream",
     "text": [
      "(12614, 6)\n",
      "                   ORDER_ID           PRESCRIPTION_ID INSURANCE_COVERAGE  \\\n",
      "0  66071f4f58fe938fe8664e7c  66071f4f58fe938fe8664e7b         notCovered   \n",
      "1  66982e8e2fcd3bdb965f0e66  66982e8e2fcd3bdb965f0e65         notCovered   \n",
      "2  6672f606d8530844ea1de370  6672f606d8530844ea1de36f         notCovered   \n",
      "3  660333c4ff0fafacca86fdb0  660333c4ff0fafacca86fdaf         notCovered   \n",
      "4  6647057faf80dec36e54b16f  661e83d9ba12b268aaab965e         notCovered   \n",
      "\n",
      "   DAYS_OF_SUPPLY              CREATED_AT              SHIPPED_AT  \n",
      "0            30.0 2024-03-29 20:06:39.983                     NaT  \n",
      "1            30.0 2024-07-17 20:50:22.973                     NaT  \n",
      "2            30.0 2024-06-19 15:15:18.009 2024-07-23 18:40:46.900  \n",
      "3            30.0 2024-03-26 20:44:52.492                     NaT  \n",
      "4            30.0 2024-05-17 07:21:35.910 2024-05-21 18:59:59.728  \n"
     ]
    }
   ],
   "source": [
    "# Remove the timezone indicator ' Z'\n",
    "orders['CREATED_AT'] = orders['CREATED_AT'].str.replace(' Z', '')\n",
    "orders['SHIPPED_AT'] = orders['SHIPPED_AT'].str.replace(' Z', '')\n",
    "\n",
    "# Convert to datetime without timezone information\n",
    "orders['CREATED_AT'] = pd.to_datetime(orders['CREATED_AT'], format='%Y-%m-%d %H:%M:%S.%f', errors='coerce')\n",
    "orders['SHIPPED_AT'] = pd.to_datetime(orders['SHIPPED_AT'], format='%Y-%m-%d %H:%M:%S.%f', errors='coerce')\n",
    "\n",
    "# Filter out prescriptions written before January 1, 2024\n",
    "filtered_orders = orders[orders['CREATED_AT'] >= '2024-01-01']\n",
    "\n",
    "print(filtered_orders.shape)\n",
    "print(filtered_orders.head())"
   ]
  },
  {
   "cell_type": "code",
   "execution_count": 36,
   "metadata": {},
   "outputs": [
    {
     "name": "stdout",
     "output_type": "stream",
     "text": [
      "                       ORDER_ID           PRESCRIPTION_ID INSURANCE_COVERAGE  \\\n",
      "0      66071f4f58fe938fe8664e7c  66071f4f58fe938fe8664e7b         notCovered   \n",
      "1      66982e8e2fcd3bdb965f0e66  66982e8e2fcd3bdb965f0e65         notCovered   \n",
      "2      6672f606d8530844ea1de370  6672f606d8530844ea1de36f         notCovered   \n",
      "3      660333c4ff0fafacca86fdb0  660333c4ff0fafacca86fdaf         notCovered   \n",
      "4      6647057faf80dec36e54b16f  661e83d9ba12b268aaab965e         notCovered   \n",
      "...                         ...                       ...                ...   \n",
      "12628  668bfcc1a75633d06ff22459  668bfcc1a75633d06ff22458       No_insurance   \n",
      "12629  665767eb44f420234535ae5c  665767eb44f420234535ae5b            covered   \n",
      "12630  6660a8bca4ef24bb840859bd  6660a8bca4ef24bb840859bc         notCovered   \n",
      "12631  6660741d59fda04e6d5b2baf  6660741d59fda04e6d5b2bae         notCovered   \n",
      "12632  668c1251a75633d06ff2aa91  668c1251a75633d06ff2aa90       No_insurance   \n",
      "\n",
      "       DAYS_OF_SUPPLY              CREATED_AT              SHIPPED_AT  \n",
      "0                30.0 2024-03-29 20:06:39.983                     NaT  \n",
      "1                30.0 2024-07-17 20:50:22.973                     NaT  \n",
      "2                30.0 2024-06-19 15:15:18.009 2024-07-23 18:40:46.900  \n",
      "3                30.0 2024-03-26 20:44:52.492                     NaT  \n",
      "4                30.0 2024-05-17 07:21:35.910 2024-05-21 18:59:59.728  \n",
      "...               ...                     ...                     ...  \n",
      "12628            30.0 2024-07-08 14:50:41.017                     NaT  \n",
      "12629            30.0 2024-05-29 17:37:47.245 2024-06-03 21:37:31.370  \n",
      "12630            30.0 2024-06-05 18:04:44.226 2024-06-17 16:24:10.715  \n",
      "12631            30.0 2024-06-05 14:20:13.671                     NaT  \n",
      "12632            30.0 2024-07-08 16:22:41.731                     NaT  \n",
      "\n",
      "[12605 rows x 6 columns]\n"
     ]
    }
   ],
   "source": [
    "# Count the occurrences of each DAYS_OF_SUPPLY value\n",
    "days_of_supply_counts = filtered_orders['DAYS_OF_SUPPLY'].value_counts()\n",
    "\n",
    "# Filter to keep only those DAYS_OF_SUPPLY values where the count is 10 or more\n",
    "values_to_keep = days_of_supply_counts[days_of_supply_counts >= 10].index\n",
    "\n",
    "# Apply the filter to the original dataframe\n",
    "filtered_orders = filtered_orders[filtered_orders['DAYS_OF_SUPPLY'].isin(values_to_keep)]\n",
    "\n",
    "print(filtered_orders)"
   ]
  },
  {
   "cell_type": "code",
   "execution_count": 37,
   "metadata": {},
   "outputs": [
    {
     "name": "stdout",
     "output_type": "stream",
     "text": [
      "INSURANCE_COVERAGE\n",
      "notCovered      6550\n",
      "covered         3528\n",
      "No_insurance    2527\n",
      "Name: count, dtype: int64\n"
     ]
    }
   ],
   "source": [
    "insurance_coverage_counts = filtered_orders['INSURANCE_COVERAGE'].value_counts()\n",
    "print(insurance_coverage_counts)"
   ]
  },
  {
   "cell_type": "code",
   "execution_count": 38,
   "metadata": {},
   "outputs": [
    {
     "name": "stdout",
     "output_type": "stream",
     "text": [
      "              PRESCRIPTION_ID                PATIENT_ID  \\\n",
      "0    6626cd0f363c1a30fee91706  6626cd0f363c1a30fee91702   \n",
      "1    6626cd0f363c1a30fee91706  6626cd0f363c1a30fee91702   \n",
      "2    66746793cfd704da15225870  66746793cfd704da1522586d   \n",
      "3    664f7db9dd81926ca4757ab1  664f7db9dd81926ca4757aae   \n",
      "4    669aa49f3a18133d0e53b32b  669aa49e3a18133d0e53b327   \n",
      "..                        ...                       ...   \n",
      "577  665f7fce59fda04e6d59a993  665f7fce59fda04e6d59a990   \n",
      "578  6602fe9dd5a1aa7cf0de5d0e  6602fe9dd5a1aa7cf0de5d0a   \n",
      "579  6602fe9dd5a1aa7cf0de5d0e  6602fe9dd5a1aa7cf0de5d0a   \n",
      "580  669ad2fa746d0fae558380e0  669ad2fa746d0fae558380dd   \n",
      "581  6620589348b92f97a599a304  6620589348b92f97a599a300   \n",
      "\n",
      "                    DOCTOR_ID PRESCRIPTION_WRITTEN_AT  \\\n",
      "0    6626cd0f363c1a30fee916fb     2023-06-01 16:00:00   \n",
      "1    6626cd0f363c1a30fee916fb     2023-06-01 16:00:00   \n",
      "2    5b294f0a7eea3100a900071f     2023-07-27 16:00:00   \n",
      "3    64431296617ab44dc1e2899c     2023-08-10 16:00:00   \n",
      "4    669aa49e3a18133d0e53b321     2023-10-09 16:00:00   \n",
      "..                        ...                     ...   \n",
      "577  5eb560e82a8da900012d79ad     2023-06-28 16:00:00   \n",
      "578  65f20210be836935a66a7104     2023-05-10 16:00:00   \n",
      "579  65f20210be836935a66a7104     2023-05-10 16:00:00   \n",
      "580  65f20210be836935a66a7104     2023-12-20 17:00:00   \n",
      "581  65f20210be836935a66a7104     2023-05-05 16:00:00   \n",
      "\n",
      "                     ORDER_ID INSURANCE_COVERAGE  DAYS_OF_SUPPLY  \\\n",
      "0    665828dad777153d3ca9a0ea         notCovered            30.0   \n",
      "1    6626cd0f363c1a30fee91707         notCovered            30.0   \n",
      "2    66746794cfd704da15225871       No_insurance            30.0   \n",
      "3    664f7db9dd81926ca4757ab2         notCovered            30.0   \n",
      "4    669aa49f3a18133d0e53b32c         notCovered            30.0   \n",
      "..                        ...                ...             ...   \n",
      "577  665f7fce59fda04e6d59a994         notCovered            30.0   \n",
      "578  66333ee59215e8f2f51beb3f         notCovered            30.0   \n",
      "579  6602fe9dd5a1aa7cf0de5d0f         notCovered            30.0   \n",
      "580  669ad2fa746d0fae558380e1         notCovered            30.0   \n",
      "581  6620589348b92f97a599a305         notCovered            30.0   \n",
      "\n",
      "                 CREATED_AT              SHIPPED_AT  \n",
      "0   2024-05-30 07:20:58.938 2024-05-30 20:33:01.267  \n",
      "1   2024-04-22 20:48:15.444 2024-05-06 14:25:53.404  \n",
      "2   2024-06-20 17:32:04.000                     NaT  \n",
      "3   2024-05-23 17:32:41.264 2024-06-04 14:55:06.019  \n",
      "4   2024-07-19 17:38:39.008 2024-08-01 16:53:48.770  \n",
      "..                      ...                     ...  \n",
      "577 2024-06-04 20:57:50.991 2024-06-12 20:57:57.983  \n",
      "578 2024-05-02 07:21:09.440 2024-05-02 17:24:16.771  \n",
      "579 2024-03-26 16:58:05.873 2024-04-08 18:58:30.245  \n",
      "580 2024-07-19 20:56:26.526                     NaT  \n",
      "581 2024-04-17 23:17:39.656                     NaT  \n",
      "\n",
      "[582 rows x 9 columns]\n"
     ]
    }
   ],
   "source": [
    "# Combining filtered_prescriptions_before_2024 and orders to see how the data looks like\n",
    "prescriptions_before_2024 = pd.merge(filtered_prescriptions_before_2024, filtered_orders, on='PRESCRIPTION_ID', how='inner')\n",
    "print(prescriptions_before_2024)"
   ]
  },
  {
   "cell_type": "markdown",
   "metadata": {},
   "source": [
    "## Export for Tableau"
   ]
  },
  {
   "cell_type": "code",
   "execution_count": 39,
   "metadata": {},
   "outputs": [],
   "source": [
    "doctors.to_csv('doctors_cleaned.csv', index=False)\n",
    "patients.to_csv('patients_cleaned.csv', index=False)\n",
    "filtered_orders.to_csv('orders_cleaned.csv', index=False)\n",
    "filtered_prescriptions.to_csv('prescriptions_cleaned.csv', index=False)"
   ]
  },
  {
   "cell_type": "markdown",
   "metadata": {},
   "source": [
    "# Analysis"
   ]
  },
  {
   "cell_type": "markdown",
   "metadata": {},
   "source": [
    "### States in which our drugs are not prescribed"
   ]
  },
  {
   "cell_type": "code",
   "execution_count": 40,
   "metadata": {},
   "outputs": [
    {
     "name": "stdout",
     "output_type": "stream",
     "text": [
      "States where no doctor has prescribed the specific drug: ['Maine', 'Puerto Rico', 'Vermont', 'Wyoming']\n"
     ]
    }
   ],
   "source": [
    "# Merge the doctors information with the prescriptions to find doctors who prescribed the drug\n",
    "doctors_prescribed = doctors.merge(filtered_prescriptions, on='DOCTOR_ID')\n",
    "\n",
    "# Extract the list of states where doctors have prescribed the drug\n",
    "states_prescribed = set(doctors_prescribed['STATE_CODE'])\n",
    "\n",
    "# Extract the list of all state codes\n",
    "all_states = set(states['STATE_CODE'])\n",
    "\n",
    "# Identify the states where no doctor has prescribed the drug\n",
    "states_not_prescribed = all_states - states_prescribed\n",
    "\n",
    "# Filter the states_df to get the names of states with codes in states_not_prescribed\n",
    "states_not_prescribed_df = states[states['STATE_CODE'].isin(states_not_prescribed)]\n",
    "\n",
    "# Get the list of state names\n",
    "states_not_prescribed_names = states_not_prescribed_df['STATE_NAME'].tolist()\n",
    "\n",
    "print(\"States where no doctor has prescribed the specific drug:\", states_not_prescribed_names)"
   ]
  },
  {
   "cell_type": "markdown",
   "metadata": {},
   "source": [
    "### Count the number of times the prescription was used to fill an order\n"
   ]
  },
  {
   "cell_type": "code",
   "execution_count": 41,
   "metadata": {},
   "outputs": [
    {
     "name": "stdout",
     "output_type": "stream",
     "text": [
      "                     DOCTOR_ID                PATIENT_ID  \\\n",
      "871   5d236b5f12d2500001469cb1  6571dc08d81ce720849314d9   \n",
      "2444  65171355ce175957c5f95308  65bd9cf67841af9c03fe9c8a   \n",
      "2797  659be7a0280780e3d123fef4  659be7a1280780e3d123fefd   \n",
      "2609  655383bc62d6ce51ca04b814  65e0d0647de15ee8b271eef6   \n",
      "398   5b2a8cace935f000a99e59ac  65d8c60b56b6f1f2c884ab8b   \n",
      "...                        ...                       ...   \n",
      "112   5a7b2d554e9a9400b5055ed1  66abf1a3ea51f591c5ff7106   \n",
      "1819  60e86f32f82c3c7b658a35d7  661985bba1c6459e94f1dd78   \n",
      "1521  5e57f9db59dbb1000116a894  669a8c984dea968c3d800393   \n",
      "1309  5dfd19885d0d290001501fdd  65f455a5d3bbc4f868a4baa0   \n",
      "8654  66901f1b7d49714b690e76bf  66901f1b7d49714b690e76c8   \n",
      "\n",
      "               PRESCRIPTION_ID  Unique_Order_Count  \n",
      "871   6571dc08d81ce720849314df                   7  \n",
      "2444  65bd9cf67841af9c03fe9c92                   7  \n",
      "2797  659be7a1280780e3d123ff05                   7  \n",
      "2609  65e0d0657de15ee8b271eefc                   6  \n",
      "398   65d8c60b56b6f1f2c884ab91                   6  \n",
      "...                        ...                 ...  \n",
      "112   66abf1a4ea51f591c5ff711e                   0  \n",
      "1819  661985bba1c6459e94f1dd8a                   0  \n",
      "1521  669a8c984dea968c3d80039a                   0  \n",
      "1309  65f455a5d3bbc4f868a4baa7                   0  \n",
      "8654  66901f1c7d49714b690e76e3                   0  \n",
      "\n",
      "[8778 rows x 4 columns]\n",
      "Unique_Order_Count\n",
      "0      19\n",
      "1    6495\n",
      "2    1578\n",
      "3     456\n",
      "4     154\n",
      "5      63\n",
      "6      10\n",
      "7       3\n",
      "Name: count, dtype: int64\n"
     ]
    }
   ],
   "source": [
    "Orders_per_prescription = pd.merge(filtered_prescriptions, orders, on='PRESCRIPTION_ID', how='left')\n",
    "#print(Orders_per_prescription.head())\n",
    "\n",
    "# Group by 'PRESCRIPTION_ID' and count the number of unique 'ORDER_ID'\n",
    "unique_orders_per_prescription = Orders_per_prescription.groupby(['DOCTOR_ID', 'PATIENT_ID','PRESCRIPTION_ID'])['ORDER_ID'].nunique().reset_index(name='Unique_Order_Count')\n",
    "\n",
    "# Sort the DataFrame by 'Unique_Order_Count' in descending order\n",
    "sorted_unique_orders_per_prescription = unique_orders_per_prescription.sort_values(by='Unique_Order_Count', ascending=False)\n",
    "\n",
    "print(sorted_unique_orders_per_prescription)\n",
    "\n",
    "# Get the distribution of Unique_Order_Count\n",
    "distribution= sorted_unique_orders_per_prescription['Unique_Order_Count'].value_counts().sort_index()\n",
    "print(distribution)"
   ]
  },
  {
   "cell_type": "markdown",
   "metadata": {},
   "source": [
    "### Unique Prescription for Grouped Doctor ID and Patient ID"
   ]
  },
  {
   "cell_type": "code",
   "execution_count": 42,
   "metadata": {},
   "outputs": [
    {
     "name": "stdout",
     "output_type": "stream",
     "text": [
      "4001\n"
     ]
    }
   ],
   "source": [
    "# Group by 'DOCTOR_ID' and 'PATIENT_ID' and count the number of unique 'PRESCRIPTION_ID'\n",
    "no_prescriptions_count = Orders_per_prescription.groupby(['DOCTOR_ID', 'PATIENT_ID'])['PRESCRIPTION_ID'].nunique()\n",
    "No_of_refills = len(Orders_per_prescription) - len(no_prescriptions_count)\n",
    "print(No_of_refills)"
   ]
  },
  {
   "cell_type": "markdown",
   "metadata": {},
   "source": [
    "### Patient Adherence"
   ]
  },
  {
   "cell_type": "markdown",
   "metadata": {},
   "source": [
    "##### Event Based Patient Adherence"
   ]
  },
  {
   "cell_type": "code",
   "execution_count": 47,
   "metadata": {},
   "outputs": [
    {
     "name": "stdout",
     "output_type": "stream",
     "text": [
      "                 PATIENT_ID  Total_Days_Of_Supply        First_Shipped_At  \\\n",
      "0  5a83288837fb1000a85ab4fe                  90.0 2024-05-11 21:49:10.785   \n",
      "1  5bce01cd0bd67300a91debc5                  60.0 2024-06-29 21:12:42.133   \n",
      "2  5c0eb790fc03a200a9e4307c                  60.0 2024-04-16 18:06:17.144   \n",
      "3  5caf5f2efa134900aa626501                  30.0 2024-05-21 16:53:19.094   \n",
      "4  5cdab7cc16a28f00aae31d25                  60.0 2024-07-08 17:23:17.839   \n",
      "\n",
      "          Last_Shipped_At  Total_Days        MPR         PDC  \n",
      "0 2024-07-02 22:25:16.359        82.0  41.474654  109.756098  \n",
      "1 2024-07-26 21:22:37.573        57.0  27.649770  105.263158  \n",
      "2 2024-05-10 16:08:09.357        53.0  27.649770  113.207547  \n",
      "3 2024-05-21 16:53:19.094        30.0  13.824885  100.000000  \n",
      "4 2024-08-01 20:19:14.151        54.0  27.649770  111.111111  \n",
      "count    4361.000000\n",
      "mean       22.228868\n",
      "std        12.410451\n",
      "min        13.824885\n",
      "25%        13.824885\n",
      "50%        13.824885\n",
      "75%        27.649770\n",
      "max        96.774194\n",
      "Name: MPR, dtype: float64\n",
      "count    4361.000000\n",
      "mean      100.675207\n",
      "std        11.968105\n",
      "min        34.285714\n",
      "25%       100.000000\n",
      "50%       100.000000\n",
      "75%       105.263158\n",
      "max       222.222222\n",
      "Name: PDC, dtype: float64\n"
     ]
    }
   ],
   "source": [
    "# Define the evaluation period\n",
    "start_date = '2024-01-01'\n",
    "end_date = '2024-08-05'\n",
    "\n",
    "# Filter data within the evaluation period\n",
    "evaluation_period_data = Orders_per_prescription[(Orders_per_prescription['PRESCRIPTION_WRITTEN_AT'] >= start_date) & (Orders_per_prescription['PRESCRIPTION_WRITTEN_AT'] <= end_date)]\n",
    "\n",
    "# Drop rows with NaN values in DAYS_OF_SUPPLY\n",
    "evaluation_period_data = evaluation_period_data.dropna(subset=['DAYS_OF_SUPPLY'])\n",
    "\n",
    "# Calculate the number of days in the evaluation period\n",
    "number_of_days = (pd.to_datetime(end_date) - pd.to_datetime(start_date)).days\n",
    "#print(number_of_days)\n",
    "\n",
    "# Filter for only shipped orders\n",
    "shipped_orders = Orders_per_prescription[Orders_per_prescription['SHIPPED_AT'].notna()]\n",
    "\n",
    "#MPR\n",
    "# Group by PATIENT_ID and get the total number of days of supply\n",
    "total_days_supply_per_patient = shipped_orders.groupby('PATIENT_ID').agg(\n",
    "    Total_Days_Of_Supply=('DAYS_OF_SUPPLY', 'sum')\n",
    ").reset_index()\n",
    "\n",
    "#PDC\n",
    "# Filter for only shipped orders\n",
    "shipped_orders = Orders_per_prescription[Orders_per_prescription['SHIPPED_AT'].notna()]\n",
    "\n",
    "# Group by PATIENT_ID and get the first and last shipped date\n",
    "grouped = shipped_orders.groupby('PATIENT_ID').agg(\n",
    "    First_Shipped_At=('SHIPPED_AT', 'min'),\n",
    "    Last_Shipped_At=('SHIPPED_AT', 'max')\n",
    ").reset_index()\n",
    "\n",
    "# Merge to get the DAYS_OF_SUPPLY for the last shipped date\n",
    "merged = pd.merge(grouped, shipped_orders[['PATIENT_ID', 'SHIPPED_AT', 'DAYS_OF_SUPPLY']],\n",
    "                  left_on=['PATIENT_ID', 'Last_Shipped_At'], right_on=['PATIENT_ID', 'SHIPPED_AT'],\n",
    "                  how='left')\n",
    "\n",
    "# Calculate the difference between the first and last shipped dates\n",
    "merged['Difference_Days'] = (merged['Last_Shipped_At'] - merged['First_Shipped_At']).dt.days\n",
    "\n",
    "# Add the DAYS_OF_SUPPLY from the last shipped date to the difference in days\n",
    "merged['Total_Days'] = merged['Difference_Days'] + merged['DAYS_OF_SUPPLY']\n",
    "\n",
    "# Select the relevant columns\n",
    "result = merged[['PATIENT_ID', 'First_Shipped_At', 'Last_Shipped_At' , 'Total_Days']]\n",
    "\n",
    "# Merge total_days_supply_per_patient and grouped DataFrames on Patient_ID\n",
    "merged = pd.merge(total_days_supply_per_patient, result, on='PATIENT_ID')\n",
    "\n",
    "# MPR Calculation\n",
    "merged['MPR'] = (merged['Total_Days_Of_Supply'] / number_of_days)*100\n",
    "\n",
    "# PDC Calculation\n",
    "merged['PDC'] = (merged['Total_Days'] / number_of_days)*100\n",
    "\n",
    "print(merged.head())\n",
    "print(merged['MPR'].describe())\n",
    "print(merged['PDC'].describe())\n"
   ]
  },
  {
   "cell_type": "code",
   "execution_count": 46,
   "metadata": {},
   "outputs": [],
   "source": [
    "merged.to_csv('merged.csv', index=False)"
   ]
  },
  {
   "cell_type": "code",
   "execution_count": 44,
   "metadata": {},
   "outputs": [
    {
     "data": {
      "image/png": "[encoded data removed]",
      "text/plain": [
       "<Figure size 640x480 with 1 Axes>"
      ]
     },
     "metadata": {},
     "output_type": "display_data"
    }
   ],
   "source": [
    "# Create a histogram\n",
    "plt.hist(merged['MPR'], bins=10, edgecolor='black')\n",
    "\n",
    "# Add titles and labels\n",
    "plt.title('Histogram of MPR')\n",
    "plt.xlabel('MPR Distribution')\n",
    "plt.ylabel('Number of Patients')\n",
    "\n",
    "# Show the plot\n",
    "plt.show()\n"
   ]
  },
  {
   "cell_type": "code",
   "execution_count": 45,
   "metadata": {},
   "outputs": [
    {
     "data": {
      "image/png": "[encoded data removed]",
      "text/plain": [
       "<Figure size 640x480 with 1 Axes>"
      ]
     },
     "metadata": {},
     "output_type": "display_data"
    }
   ],
   "source": [
    "# Create a histogram\n",
    "plt.hist(merged['PDC'], bins=10, edgecolor='black')\n",
    "\n",
    "# Add titles and labels\n",
    "plt.title('Histogram of PDC')\n",
    "plt.xlabel('PDC Distribution')\n",
    "plt.ylabel('Number of Patients')\n",
    "\n",
    "# Show the plot\n",
    "plt.show()\n"
   ]
  },
  {
   "cell_type": "markdown",
   "metadata": {},
   "source": [
    "##### Order Shipped to till date Adherence"
   ]
  },
  {
   "cell_type": "code",
   "execution_count": 214,
   "metadata": {},
   "outputs": [
    {
     "ename": "ValueError",
     "evalue": "cannot convert float NaN to integer",
     "output_type": "error",
     "traceback": [
      "\u001b[0;31m---------------------------------------------------------------------------\u001b[0m",
      "\u001b[0;31mValueError\u001b[0m                                Traceback (most recent call last)",
      "Cell \u001b[0;32mIn[214], line 57\u001b[0m\n\u001b[1;32m     54\u001b[0m     \u001b[38;5;28;01mreturn\u001b[39;00m pdc\n\u001b[1;32m     56\u001b[0m \u001b[38;5;66;03m# Calculate PDC\u001b[39;00m\n\u001b[0;32m---> 57\u001b[0m pdc \u001b[38;5;241m=\u001b[39m \u001b[43mcalculate_pdc\u001b[49m\u001b[43m(\u001b[49m\u001b[43mdf\u001b[49m\u001b[43m)\u001b[49m\n\u001b[1;32m     58\u001b[0m \u001b[38;5;28mprint\u001b[39m(\u001b[38;5;124mf\u001b[39m\u001b[38;5;124m\"\u001b[39m\u001b[38;5;124mPDC for each patient: \u001b[39m\u001b[38;5;132;01m{\u001b[39;00mpdc\u001b[38;5;132;01m}\u001b[39;00m\u001b[38;5;124m\"\u001b[39m)\n",
      "Cell \u001b[0;32mIn[214], line 35\u001b[0m, in \u001b[0;36mcalculate_pdc\u001b[0;34m(df)\u001b[0m\n\u001b[1;32m     32\u001b[0m \u001b[38;5;28;01mfor\u001b[39;00m _, row \u001b[38;5;129;01min\u001b[39;00m patient_df\u001b[38;5;241m.\u001b[39miterrows():\n\u001b[1;32m     33\u001b[0m     \u001b[38;5;66;03m# Determine the coverage start and end dates\u001b[39;00m\n\u001b[1;32m     34\u001b[0m     coverage_start \u001b[38;5;241m=\u001b[39m row[\u001b[38;5;124m'\u001b[39m\u001b[38;5;124mSHIPPED_AT\u001b[39m\u001b[38;5;124m'\u001b[39m]\n\u001b[0;32m---> 35\u001b[0m     coverage_end \u001b[38;5;241m=\u001b[39m coverage_start \u001b[38;5;241m+\u001b[39m \u001b[43mpd\u001b[49m\u001b[38;5;241;43m.\u001b[39;49m\u001b[43mTimedelta\u001b[49m\u001b[43m(\u001b[49m\u001b[43mdays\u001b[49m\u001b[38;5;241;43m=\u001b[39;49m\u001b[43mrow\u001b[49m\u001b[43m[\u001b[49m\u001b[38;5;124;43m'\u001b[39;49m\u001b[38;5;124;43mDAYS_OF_SUPPLY\u001b[39;49m\u001b[38;5;124;43m'\u001b[39;49m\u001b[43m]\u001b[49m\u001b[43m)\u001b[49m\n\u001b[1;32m     37\u001b[0m     \u001b[38;5;66;03m# Ensure the coverage period is within the observation period\u001b[39;00m\n\u001b[1;32m     38\u001b[0m     coverage_start \u001b[38;5;241m=\u001b[39m \u001b[38;5;28mmax\u001b[39m(coverage_start, observation_period_start)\n",
      "File \u001b[0;32mtimedeltas.pyx:1777\u001b[0m, in \u001b[0;36mpandas._libs.tslibs.timedeltas.Timedelta.__new__\u001b[0;34m()\u001b[0m\n",
      "\u001b[0;31mValueError\u001b[0m: cannot convert float NaN to integer"
     ]
    }
   ],
   "source": [
    "# Filter for only shipped orders\n",
    "shipped_orders = Orders_per_prescription[Orders_per_prescription['SHIPPED_AT'].notna()]\n",
    "shipped_orders = shipped_orders[shipped_orders['DAYS_OF_SUPPLY'].notna()]\n",
    "\n",
    "#MPR\n",
    "# Group by PATIENT_ID and get the total number of days of supply\n",
    "total_days_supply_per_patient = shipped_orders.groupby('PATIENT_ID').agg(\n",
    "    Total_Days_Of_Supply=('DAYS_OF_SUPPLY', 'sum')\n",
    ").reset_index()\n",
    "#print(total_days_supply_per_patient.head())\n",
    "\n",
    "#PDC\n",
    "df = Orders_per_prescription.copy()\n",
    "# Assuming you want to calculate PDC within a specific observation period\n",
    "# For simplicity, let's assume the observation period is from the first created date to the last shipped date\n",
    "start_date = df['CREATED_AT'].min()\n",
    "end_date = df['SHIPPED_AT'].max()\n",
    "\n",
    "# Function to calculate PDC for each patient\n",
    "def calculate_pdc(df):\n",
    "    \n",
    "    # Define the observation period\n",
    "    observation_period_start = df['SHIPPED_AT'].min()\n",
    "    observation_period_end = df['SHIPPED_AT'].max()\n",
    "    \n",
    "    # Initialize dictionary to store coverage days for each patient\n",
    "    patient_coverage = {}\n",
    "    \n",
    "    for patient_id, patient_df in df.groupby('PATIENT_ID'):\n",
    "        covered_days = set()\n",
    "        \n",
    "        for _, row in patient_df.iterrows():\n",
    "            # Determine the coverage start and end dates\n",
    "            coverage_start = row['SHIPPED_AT']\n",
    "            coverage_end = coverage_start + pd.Timedelta(days=row['DAYS_OF_SUPPLY'])\n",
    "            \n",
    "            # Ensure the coverage period is within the observation period\n",
    "            coverage_start = max(coverage_start, observation_period_start)\n",
    "            coverage_end = min(coverage_end, observation_period_end)\n",
    "            \n",
    "            # Add covered days to the set\n",
    "            if coverage_start < coverage_end:\n",
    "                covered_days.update(pd.date_range(start=coverage_start, end=coverage_end))\n",
    "        \n",
    "        # Calculate the number of covered days for this patient\n",
    "        patient_coverage[patient_id] = len(covered_days)\n",
    "    \n",
    "    # Calculate the total number of days in the observation period\n",
    "    total_days = (observation_period_end - observation_period_start).days + 1\n",
    "    \n",
    "    # Calculate PDC for each patient\n",
    "    pdc = {patient_id: (coverage_days / total_days) * 100 for patient_id, coverage_days in patient_coverage.items()}\n",
    "    \n",
    "    return pdc\n",
    "\n",
    "# Calculate PDC\n",
    "pdc = calculate_pdc(df)\n",
    "print(f\"PDC for each patient: {pdc}\")"
   ]
  },
  {
   "cell_type": "code",
   "execution_count": 213,
   "metadata": {},
   "outputs": [
    {
     "name": "stdout",
     "output_type": "stream",
     "text": [
      "                    PATIENT_ID  Total_Days_Covered  Total_Days_In_Period  \\\n",
      "0     5a83288837fb1000a85ab4fe               111.0                    85   \n",
      "1     5bce01cd0bd67300a91debc5                45.0                    36   \n",
      "2     5c0eb790fc03a200a9e4307c                83.0                   110   \n",
      "3     5caf5f2efa134900aa626501                60.0                    75   \n",
      "4     5cdab7cc16a28f00aae31d25                30.0                    27   \n",
      "...                        ...                 ...                   ...   \n",
      "4356  66a93f52323ec984325e79a0                 6.0                     3   \n",
      "4357  66a942c2323ec984325e8cf8                 6.0                     3   \n",
      "4358  66a9557c702bba9f698d5cc8                 6.0                     3   \n",
      "4359  66aa391be1d614705b85aba9                 6.0                     3   \n",
      "4360  66aa519fae0f9c9dd8046cb9                 6.0                     3   \n",
      "\n",
      "             PDC  \n",
      "0     130.588235  \n",
      "1     125.000000  \n",
      "2      75.454545  \n",
      "3      80.000000  \n",
      "4     111.111111  \n",
      "...          ...  \n",
      "4356  200.000000  \n",
      "4357  200.000000  \n",
      "4358  200.000000  \n",
      "4359  200.000000  \n",
      "4360  200.000000  \n",
      "\n",
      "[4361 rows x 4 columns]\n"
     ]
    }
   ],
   "source": [
    "## trial\n",
    "import pandas as pd\n",
    "import numpy as np\n",
    "\n",
    "# # Sample DataFrame\n",
    "# data = {\n",
    "#     'PATIENT_ID': [1, 1, 1, 2, 2],\n",
    "#     'SHIPPED_AT': ['2024-01-01', '2024-01-15', '2024-02-01', '2024-01-01', '2024-01-20'],\n",
    "#     'DAYS_OF_SUPPLY': [30, 30, 30, 15, 30]\n",
    "# }\n",
    "# Orders_per_prescription = pd.DataFrame(data)\n",
    "# Orders_per_prescription['SHIPPED_AT'] = pd.to_datetime(Orders_per_prescription['SHIPPED_AT'])\n",
    "\n",
    "# Filter for only shipped orders\n",
    "shipped_orders = Orders_per_prescription[Orders_per_prescription['SHIPPED_AT'].notna()]\n",
    "\n",
    "# Define the evaluation period (today)\n",
    "end_date = pd.to_datetime('2024-08-05')\n",
    "\n",
    "# Sort orders by PATIENT_ID and SHIPPED_AT\n",
    "shipped_orders = shipped_orders.sort_values(by=['PATIENT_ID', 'SHIPPED_AT'])\n",
    "\n",
    "# Initialize list to store results\n",
    "results = []\n",
    "\n",
    "# Process each patient's orders\n",
    "for patient_id, group in shipped_orders.groupby('PATIENT_ID'):\n",
    "    # Initialize variables\n",
    "    total_days_covered = 0\n",
    "    \n",
    "    # Iterate through each shipment and calculate coverage\n",
    "    for i in range(len(group)):\n",
    "        current_shipment = group.iloc[i]\n",
    "        current_date = current_shipment['SHIPPED_AT']\n",
    "        days_of_supply = current_shipment['DAYS_OF_SUPPLY']\n",
    "        \n",
    "        if i == len(group) - 1:\n",
    "            # Last shipment to end_date\n",
    "            next_date = end_date\n",
    "        else:\n",
    "            # Next shipment date\n",
    "            next_shipment = group.iloc[i + 1]\n",
    "            next_date = next_shipment['SHIPPED_AT']\n",
    "        \n",
    "        # Calculate the number of days between the current and next date\n",
    "        days_between = (next_date - current_date).days\n",
    "        \n",
    "        # Calculate days covered in this interval\n",
    "        days_covered = min(days_between, days_of_supply)\n",
    "        \n",
    "        # Add days covered to total\n",
    "        total_days_covered += days_covered\n",
    "        \n",
    "    # Account for the last interval if necessary\n",
    "    last_shipment_date = group.iloc[-1]['SHIPPED_AT']\n",
    "    if last_shipment_date < end_date:\n",
    "        days_of_supply_last = group.iloc[-1]['DAYS_OF_SUPPLY']\n",
    "        days_covered_last = min((end_date - last_shipment_date).days, days_of_supply_last)\n",
    "        total_days_covered += days_covered_last\n",
    "    \n",
    "    # Record results for the patient\n",
    "    total_days_in_period = (end_date - group['SHIPPED_AT'].min()).days\n",
    "    results.append({\n",
    "        'PATIENT_ID': patient_id,\n",
    "        'Total_Days_Covered': total_days_covered,\n",
    "        'Total_Days_In_Period': total_days_in_period\n",
    "    })\n",
    "\n",
    "# Convert results to DataFrame\n",
    "results_df = pd.DataFrame(results)\n",
    "\n",
    "# Calculate PDC\n",
    "results_df['PDC'] = (results_df['Total_Days_Covered'] / results_df['Total_Days_In_Period']) * 100\n",
    "\n",
    "# Print the results\n",
    "print(results_df)\n"
   ]
  },
  {
   "cell_type": "code",
   "execution_count": 48,
   "metadata": {},
   "outputs": [
    {
     "data": {
      "image/png": "[encoded data removed]",
      "text/plain": [
       "<Figure size 640x480 with 1 Axes>"
      ]
     },
     "metadata": {},
     "output_type": "display_data"
    },
    {
     "data": {
      "image/png": "[encoded data removed]",
      "text/plain": [
       "<Figure size 640x480 with 1 Axes>"
      ]
     },
     "metadata": {},
     "output_type": "display_data"
    }
   ],
   "source": [
    "# Create a histogram\n",
    "plt.hist(merged_data['MPR'], bins=20, edgecolor='black')\n",
    "\n",
    "# Add titles and labels\n",
    "plt.title('Histogram of MPR')\n",
    "plt.xlabel('MPR Distribution')\n",
    "plt.ylabel('Number of Patients')\n",
    "\n",
    "# Show the plot\n",
    "plt.show()\n",
    "\n",
    "# Create a histogram\n",
    "plt.hist(merged_data['PDC'], bins=20, edgecolor='black')\n",
    "\n",
    "# Add titles and labels\n",
    "plt.title('Histogram of PDC')\n",
    "plt.xlabel('PDC Distribution')\n",
    "plt.ylabel('Number of Patients')\n",
    "\n",
    "# Show the plot\n",
    "plt.show()\n"
   ]
  },
  {
   "cell_type": "markdown",
   "metadata": {},
   "source": [
    "### High Values of Shipped Orders Out of Created Orders"
   ]
  },
  {
   "cell_type": "code",
   "execution_count": 49,
   "metadata": {},
   "outputs": [
    {
     "name": "stdout",
     "output_type": "stream",
     "text": [
      "Shipping Rate: 58.14146787465714\n"
     ]
    }
   ],
   "source": [
    "total_created_orders = Orders_per_prescription['ORDER_ID'].nunique()\n",
    "total_shipped_orders = Orders_per_prescription[Orders_per_prescription['SHIPPED_AT'].notna()]['ORDER_ID'].nunique()\n",
    "shipping_rate = (total_shipped_orders / total_created_orders)*100\n",
    "print(\"Shipping Rate:\",shipping_rate)"
   ]
  },
  {
   "cell_type": "markdown",
   "metadata": {},
   "source": [
    "### Order Covered by Insurance"
   ]
  },
  {
   "cell_type": "code",
   "execution_count": 50,
   "metadata": {},
   "outputs": [
    {
     "name": "stdout",
     "output_type": "stream",
     "text": [
      "3412\n",
      "Insurance Coverage Rate: 28.360069819632617\n"
     ]
    }
   ],
   "source": [
    "total_covered_orders = Orders_per_prescription[Orders_per_prescription['INSURANCE_COVERAGE'].str.lower() == 'covered'].shape[0]\n",
    "print(total_covered_orders)\n",
    "insurance_coverage_rate = (total_covered_orders / total_created_orders)*100\n",
    "print(\"Insurance Coverage Rate:\", insurance_coverage_rate)\n"
   ]
  },
  {
   "cell_type": "markdown",
   "metadata": {},
   "source": [
    "### Order Not Covered by Insurance"
   ]
  },
  {
   "cell_type": "code",
   "execution_count": 51,
   "metadata": {},
   "outputs": [
    {
     "name": "stdout",
     "output_type": "stream",
     "text": [
      "6193\n",
      "Insurance Non Coverage: 51.47535533205885\n"
     ]
    }
   ],
   "source": [
    "total_non_covered_orders = Orders_per_prescription[Orders_per_prescription['INSURANCE_COVERAGE'].str.lower() == 'notcovered'].shape[0]\n",
    "print(total_non_covered_orders)\n",
    "insurance_non_coverage_rate = (total_non_covered_orders / total_created_orders)*100\n",
    "print(\"Insurance Non Coverage:\", insurance_non_coverage_rate)"
   ]
  },
  {
   "cell_type": "markdown",
   "metadata": {},
   "source": [
    "### Order without Insurance"
   ]
  },
  {
   "cell_type": "code",
   "execution_count": 52,
   "metadata": {},
   "outputs": [
    {
     "name": "stdout",
     "output_type": "stream",
     "text": [
      "2426\n",
      "No Insurance Rate: 20.164574848308536\n"
     ]
    }
   ],
   "source": [
    "total_no_insurance_orders = Orders_per_prescription[Orders_per_prescription['INSURANCE_COVERAGE'].str.lower() == 'no_insurance'].shape[0]\n",
    "print(total_no_insurance_orders)\n",
    "no_insurance_rate = (total_no_insurance_orders / total_created_orders)*100\n",
    "print(\"No Insurance Rate:\", no_insurance_rate)"
   ]
  },
  {
   "cell_type": "markdown",
   "metadata": {},
   "source": [
    "### Order vs Insurance Coverage"
   ]
  },
  {
   "cell_type": "code",
   "execution_count": 53,
   "metadata": {},
   "outputs": [
    {
     "name": "stdout",
     "output_type": "stream",
     "text": [
      "Insurance Coverage: covered\n",
      "  Total Orders: 3412\n",
      "  Shipped Orders: 3057\n",
      "  Shipped Proportion: 89.60%\n",
      "\n",
      "Insurance Coverage: notcovered\n",
      "  Total Orders: 6193\n",
      "  Shipped Orders: 3914\n",
      "  Shipped Proportion: 63.20%\n",
      "\n",
      "Insurance Coverage: no_insurance\n",
      "  Total Orders: 2426\n",
      "  Shipped Orders: 24\n",
      "  Shipped Proportion: 0.99%\n",
      "\n"
     ]
    }
   ],
   "source": [
    "# Ensure 'INSURANCE_COVERAGE' is in lowercase for consistency\n",
    "Orders_per_prescription['INSURANCE_COVERAGE'] = Orders_per_prescription['INSURANCE_COVERAGE'].str.lower()\n",
    "\n",
    "# Define shipped orders (assuming 'SHIPPED_AT' indicates the order is shipped)\n",
    "Orders_per_prescription['Shipped'] = Orders_per_prescription['SHIPPED_AT'].notna()\n",
    "\n",
    "# Calculate the total number of shipped orders in each insurance category\n",
    "coverage_categories = ['covered', 'notcovered', 'no_insurance']\n",
    "\n",
    "shipped_stats = {}\n",
    "for category in coverage_categories:\n",
    "    # Filter orders by insurance coverage\n",
    "    category_orders = Orders_per_prescription[Orders_per_prescription['INSURANCE_COVERAGE'] == category]\n",
    "    \n",
    "    # Count the total number of orders and shipped orders\n",
    "    total_orders = category_orders.shape[0]\n",
    "    shipped_orders = category_orders['Shipped'].sum()\n",
    "    \n",
    "    # Calculate the proportion of shipped orders\n",
    "    shipped_proportion = shipped_orders / total_orders if total_orders > 0 else 0\n",
    "    \n",
    "    # Store the results\n",
    "    shipped_stats[category] = {\n",
    "        'Total Orders': total_orders,\n",
    "        'Shipped Orders': shipped_orders,\n",
    "        'Shipped Proportion': shipped_proportion\n",
    "    }\n",
    "\n",
    "# Print results\n",
    "for category, stats in shipped_stats.items():\n",
    "    print(f\"Insurance Coverage: {category}\")\n",
    "    print(f\"  Total Orders: {stats['Total Orders']}\")\n",
    "    print(f\"  Shipped Orders: {stats['Shipped Orders']}\")\n",
    "    print(f\"  Shipped Proportion: {stats['Shipped Proportion']:.2%}\")\n",
    "    print()\n"
   ]
  },
  {
   "cell_type": "markdown",
   "metadata": {},
   "source": [
    "### Average Refills"
   ]
  },
  {
   "cell_type": "code",
   "execution_count": 54,
   "metadata": {},
   "outputs": [
    {
     "name": "stdout",
     "output_type": "stream",
     "text": [
      "Average Refills: 1.4987562189054726\n"
     ]
    }
   ],
   "source": [
    "refills = Orders_per_prescription.groupby(['PATIENT_ID'])['PRESCRIPTION_ID'].count()\n",
    "average_refills = refills.mean()\n",
    "print(\"Average Refills:\", average_refills)"
   ]
  },
  {
   "cell_type": "markdown",
   "metadata": {},
   "source": [
    "### Age Based Analysis"
   ]
  },
  {
   "cell_type": "code",
   "execution_count": 55,
   "metadata": {},
   "outputs": [
    {
     "name": "stdout",
     "output_type": "stream",
     "text": [
      "                PRESCRIPTION_ID                PATIENT_ID  \\\n",
      "0      6614201bb3fe6df48d3e92f0  6614201bb3fe6df48d3e92ed   \n",
      "1      664cde23600e7e3f254eebdb  664cde23600e7e3f254eebd6   \n",
      "2      6655fc2edb2d27ccb657f4ee  664cde23600e7e3f254eebd6   \n",
      "3      667af276b220091a8df2cf80  667af276b220091a8df2cf7c   \n",
      "4      65272a2a8fcaa8936d7ec02e  65272a2a8fcaa8936d7ec02a   \n",
      "...                         ...                       ...   \n",
      "12045  66352abdeb71f41b0c4e1f29  66352abdeb71f41b0c4e1f25   \n",
      "12046  66352abdeb71f41b0c4e1f29  66352abdeb71f41b0c4e1f25   \n",
      "12047  65f87f94a01dfa564a10a949  65f87f93a01dfa564a10a946   \n",
      "12048  6616a3d327361b387ab08e57  6282cb6e246abcef8feaa014   \n",
      "12049  66a3f3a3a10b487840111505  66a3f3a2a10b4878401114ff   \n",
      "\n",
      "                      DOCTOR_ID PRESCRIPTION_WRITTEN_AT  \\\n",
      "0      6614201bb3fe6df48d3e92e8     2024-04-05 16:00:00   \n",
      "1      5d4c36f60f567e0001349e45     2024-05-21 16:00:00   \n",
      "2      5d4c36f60f567e0001349e45     2024-05-27 16:00:00   \n",
      "3      667af276b220091a8df2cf77     2024-06-24 16:00:00   \n",
      "4      64919e368eacb3e62521fc66     2024-04-08 16:00:00   \n",
      "...                         ...                     ...   \n",
      "12045  65f20210be836935a66a7104     2024-07-30 16:00:00   \n",
      "12046  65f20210be836935a66a7104     2024-07-30 16:00:00   \n",
      "12047  65f20210be836935a66a7104     2024-03-15 16:00:00   \n",
      "12048  65f20210be836935a66a7104     2024-04-05 16:00:00   \n",
      "12049  66a3f3a2a10b4878401114fa     2024-07-26 16:00:00   \n",
      "\n",
      "                       ORDER_ID INSURANCE_COVERAGE  DAYS_OF_SUPPLY  \\\n",
      "0      6614201bb3fe6df48d3e92f1         notcovered            30.0   \n",
      "1      664cde23600e7e3f254eebdc         notcovered            30.0   \n",
      "2      6655fc2edb2d27ccb657f4ef       no_insurance            30.0   \n",
      "3      667af276b220091a8df2cf81         notcovered            30.0   \n",
      "4      65e03e6f713fbc7bd8c76e4b         notcovered            30.0   \n",
      "...                         ...                ...             ...   \n",
      "12045  66352abdeb71f41b0c4e1f2a         notcovered            30.0   \n",
      "12046  6675d4aa585fffdcbf1c0e66       no_insurance            30.0   \n",
      "12047  65f87f94a01dfa564a10a94a         notcovered            30.0   \n",
      "12048  6616a3d327361b387ab08e58            covered            30.0   \n",
      "12049  66a3f3a3a10b487840111506         notcovered            30.0   \n",
      "\n",
      "                   CREATED_AT              SHIPPED_AT  Shipped  \\\n",
      "0     2024-04-08 16:49:31.934 2024-04-19 13:58:58.794     True   \n",
      "1     2024-05-21 17:47:15.917 2024-05-28 17:26:37.686     True   \n",
      "2     2024-05-28 15:45:50.398                     NaT    False   \n",
      "3     2024-06-25 16:38:14.578 2024-07-09 19:51:27.950     True   \n",
      "4     2024-02-29 08:21:03.078 2024-03-11 11:14:19.147     True   \n",
      "...                       ...                     ...      ...   \n",
      "12045 2024-05-03 18:19:41.143 2024-05-07 13:39:41.787     True   \n",
      "12046 2024-06-21 19:29:46.413                     NaT    False   \n",
      "12047 2024-03-18 17:53:24.012                     NaT    False   \n",
      "12048 2024-04-10 14:36:03.862 2024-07-24 18:33:47.751     True   \n",
      "12049 2024-07-26 19:06:11.196 2024-08-01 16:59:08.740     True   \n",
      "\n",
      "            DATE_OF_BIRTH   AGE                      Age_Group  \n",
      "0     2001-03-05 08:00:00  23.0      Young Adult (18-24 years)  \n",
      "1     1979-07-26 07:00:00  45.0    Mid Adulthood (35-49 years)  \n",
      "2     1979-07-26 07:00:00  45.0    Mid Adulthood (35-49 years)  \n",
      "3     1989-10-07 07:00:00  35.0    Mid Adulthood (35-49 years)  \n",
      "4     2006-04-04 07:00:00  18.0      Young Adult (18-24 years)  \n",
      "...                   ...   ...                            ...  \n",
      "12045 2006-01-25 08:00:00  19.0      Young Adult (18-24 years)  \n",
      "12046 2006-01-25 08:00:00  19.0      Young Adult (18-24 years)  \n",
      "12047 1993-11-16 08:00:00  31.0  Early Adulthood (25-34 years)  \n",
      "12048 1979-11-30 08:00:00  45.0    Mid Adulthood (35-49 years)  \n",
      "12049 2005-02-12 05:00:00  19.0      Young Adult (18-24 years)  \n",
      "\n",
      "[12050 rows x 13 columns]\n"
     ]
    }
   ],
   "source": [
    "age_prescriptions = pd.merge(Orders_per_prescription, patients, on='PATIENT_ID', how='inner')\n",
    "print(age_prescriptions)\n",
    "\n",
    "# Calculate the average age of patients who received prescriptions\n",
    "average_age = age_prescriptions['AGE'].mean()\n",
    "#print(\"Average Age:\", average_age)"
   ]
  },
  {
   "cell_type": "code",
   "execution_count": 56,
   "metadata": {},
   "outputs": [
    {
     "data": {
      "image/png": "[encoded data removed]",
      "text/plain": [
       "<Figure size 640x480 with 1 Axes>"
      ]
     },
     "metadata": {},
     "output_type": "display_data"
    }
   ],
   "source": [
    "# Create a histogram\n",
    "plt.hist(age_prescriptions['AGE'], bins=10, edgecolor='black')\n",
    "\n",
    "# Add titles and labels\n",
    "plt.title('Histogram of Age of Patients receiving Prescriptions')\n",
    "plt.xlabel('Age')\n",
    "plt.ylabel('Number of Patients')\n",
    "\n",
    "# Show the plot\n",
    "plt.show()"
   ]
  },
  {
   "cell_type": "markdown",
   "metadata": {},
   "source": [
    "### Age Brackets"
   ]
  },
  {
   "cell_type": "code",
   "execution_count": 57,
   "metadata": {},
   "outputs": [
    {
     "name": "stdout",
     "output_type": "stream",
     "text": [
      "Age_Group\n",
      "Young Adult (18-24 years)        1269\n",
      "Early Adulthood (25-34 years)    1160\n",
      "Mid Adulthood (35-49 years)       972\n",
      "Teenager (12-17 years)            722\n",
      "Late Adulthood (50-64 years)      224\n",
      "Senior (65+ years)                 13\n",
      "Late Elementary (9-11 years)        1\n",
      "Name: PATIENT_ID, dtype: int64\n"
     ]
    }
   ],
   "source": [
    "# Filter the DataFrame to include only rows where 'Shipped_Order_Count' is not null\n",
    "filtered_age_prescriptions = age_prescriptions[age_prescriptions['SHIPPED_AT'].notnull()]\n",
    "\n",
    "# Group by 'Age_Group' and count unique 'PATIENT_ID'\n",
    "age_bracket_counts = filtered_age_prescriptions.groupby('Age_Group')['PATIENT_ID'].nunique()\n",
    "\n",
    "# Sort the counts in descending order to find the age brackets with the most unique patient IDs\n",
    "age_bracket_counts = age_bracket_counts.sort_values(ascending=False)\n",
    "\n",
    "print(age_bracket_counts)"
   ]
  },
  {
   "cell_type": "markdown",
   "metadata": {},
   "source": [
    "### No of Patients with insurance coverage. Age group of patients vs insurance coverage "
   ]
  },
  {
   "cell_type": "code",
   "execution_count": 58,
   "metadata": {},
   "outputs": [
    {
     "name": "stdout",
     "output_type": "stream",
     "text": [
      "                        Age_Group INSURANCE_COVERAGE  Patient_Count\n",
      "0   Early Adulthood (25-34 years)            covered            530\n",
      "1   Early Adulthood (25-34 years)       no_insurance            605\n",
      "2   Early Adulthood (25-34 years)         notcovered           1258\n",
      "3    Late Adulthood (50-64 years)            covered             93\n",
      "4    Late Adulthood (50-64 years)       no_insurance             94\n",
      "5    Late Adulthood (50-64 years)         notcovered            236\n",
      "6    Late Elementary (9-11 years)       no_insurance              1\n",
      "7    Late Elementary (9-11 years)         notcovered              4\n",
      "8     Mid Adulthood (35-49 years)            covered            387\n",
      "9     Mid Adulthood (35-49 years)       no_insurance            418\n",
      "10    Mid Adulthood (35-49 years)         notcovered            986\n",
      "11             Senior (65+ years)            covered             14\n",
      "12             Senior (65+ years)       no_insurance             12\n",
      "13             Senior (65+ years)         notcovered              5\n",
      "14         Teenager (12-17 years)            covered            338\n",
      "15         Teenager (12-17 years)       no_insurance            364\n",
      "16         Teenager (12-17 years)         notcovered            703\n",
      "17      Young Adult (18-24 years)            covered            632\n",
      "18      Young Adult (18-24 years)       no_insurance            761\n",
      "19      Young Adult (18-24 years)         notcovered           1248\n"
     ]
    }
   ],
   "source": [
    "# No of Patients with insurance coverage. Age group of patients vs insurance coverage \n",
    "insurance_coverage = age_prescriptions.groupby(['Age_Group', 'INSURANCE_COVERAGE'])['PATIENT_ID'].nunique().reset_index(name='Patient_Count')\n",
    "print(insurance_coverage)"
   ]
  },
  {
   "cell_type": "markdown",
   "metadata": {},
   "source": [
    "### Order Count - PDC"
   ]
  },
  {
   "cell_type": "code",
   "execution_count": 59,
   "metadata": {},
   "outputs": [
    {
     "name": "stdout",
     "output_type": "stream",
     "text": [
      "   Unique_Order_Count  Average_MPR  Average_PDC\n",
      "0                   0   110.427413   116.949153\n",
      "1                   1   153.081552   128.245334\n",
      "2                   2    84.785824   142.132172\n",
      "3                   3    98.672003   136.197435\n",
      "4                   4   108.774709   128.251231\n",
      "5                   5   117.841611   124.824990\n",
      "6                   6   113.747089   119.419701\n",
      "7                   7   111.327472   115.903925\n"
     ]
    }
   ],
   "source": [
    "# Merge sorted_prescription_count and merged data frames on Patient_ID\n",
    "prescription_vs_patient_id = pd.merge(sorted_unique_orders_per_prescription, merged_data, on='PATIENT_ID')\n",
    "prescription_vs_patient_id = prescription_vs_patient_id[[\"DOCTOR_ID\",\"PATIENT_ID\", \"PRESCRIPTION_ID\" , \"Unique_Order_Count\", \"MPR\", \"PDC\"]]\n",
    "#print(prescription_vs_patient_id)\n",
    "\n",
    "# Calculate average MPR and PDC for each prescription count\n",
    "average_mpr_pdc = prescription_vs_patient_id.groupby('Unique_Order_Count').agg(Average_MPR=('MPR', 'mean'),Average_PDC=('PDC', 'mean')).reset_index()\n",
    "\n",
    "print(average_mpr_pdc)"
   ]
  },
  {
   "cell_type": "markdown",
   "metadata": {},
   "source": [
    "# Create Master File"
   ]
  },
  {
   "cell_type": "code",
   "execution_count": 163,
   "metadata": {},
   "outputs": [
    {
     "name": "stdout",
     "output_type": "stream",
     "text": [
      "                PRESCRIPTION_ID                PATIENT_ID  \\\n",
      "0      6614201bb3fe6df48d3e92f0  6614201bb3fe6df48d3e92ed   \n",
      "1      664cde23600e7e3f254eebdb  664cde23600e7e3f254eebd6   \n",
      "2      6655fc2edb2d27ccb657f4ee  664cde23600e7e3f254eebd6   \n",
      "3      667af276b220091a8df2cf80  667af276b220091a8df2cf7c   \n",
      "4      65272a2a8fcaa8936d7ec02e  65272a2a8fcaa8936d7ec02a   \n",
      "...                         ...                       ...   \n",
      "12045  66352abdeb71f41b0c4e1f29  66352abdeb71f41b0c4e1f25   \n",
      "12046  66352abdeb71f41b0c4e1f29  66352abdeb71f41b0c4e1f25   \n",
      "12047  65f87f94a01dfa564a10a949  65f87f93a01dfa564a10a946   \n",
      "12048  6616a3d327361b387ab08e57  6282cb6e246abcef8feaa014   \n",
      "12049  66a3f3a3a10b487840111505  66a3f3a2a10b4878401114ff   \n",
      "\n",
      "                      DOCTOR_ID PRESCRIPTION_WRITTEN_AT  \\\n",
      "0      6614201bb3fe6df48d3e92e8     2024-04-05 16:00:00   \n",
      "1      5d4c36f60f567e0001349e45     2024-05-21 16:00:00   \n",
      "2      5d4c36f60f567e0001349e45     2024-05-27 16:00:00   \n",
      "3      667af276b220091a8df2cf77     2024-06-24 16:00:00   \n",
      "4      64919e368eacb3e62521fc66     2024-04-08 16:00:00   \n",
      "...                         ...                     ...   \n",
      "12045  65f20210be836935a66a7104     2024-07-30 16:00:00   \n",
      "12046  65f20210be836935a66a7104     2024-07-30 16:00:00   \n",
      "12047  65f20210be836935a66a7104     2024-03-15 16:00:00   \n",
      "12048  65f20210be836935a66a7104     2024-04-05 16:00:00   \n",
      "12049  66a3f3a2a10b4878401114fa     2024-07-26 16:00:00   \n",
      "\n",
      "                          SPECIALTY              NAME   Primary_Speciality  \\\n",
      "0                       Dermatology       Doctor Hema          Dermatology   \n",
      "1                       Dermatology  Doctor Armandina          Dermatology   \n",
      "2                       Dermatology  Doctor Armandina          Dermatology   \n",
      "3               Physician Assistant    Doctor Celissa  Physician Assistant   \n",
      "4               Physician Assistant       Doctor Brei  Physician Assistant   \n",
      "...                             ...               ...                  ...   \n",
      "12045  Physician Assistant, Medical    Doctor Domonic  Physician Assistant   \n",
      "12046  Physician Assistant, Medical    Doctor Domonic  Physician Assistant   \n",
      "12047  Physician Assistant, Medical    Doctor Domonic  Physician Assistant   \n",
      "12048  Physician Assistant, Medical    Doctor Domonic  Physician Assistant   \n",
      "12049                   Dermatology    Doctor Junella          Dermatology   \n",
      "\n",
      "      Sub_Speciality  STATE_NAME STATE_CODE GEOGRAPHICAL_REGIONS  \\\n",
      "0                       Illinois         IL              Midwest   \n",
      "1                        Indiana         IN              Midwest   \n",
      "2                        Indiana         IN              Midwest   \n",
      "3                       New York         NY            Northeast   \n",
      "4                        Florida         FL            Southeast   \n",
      "...              ...         ...        ...                  ...   \n",
      "12045        Medical       Texas         TX        South Central   \n",
      "12046        Medical       Texas         TX        South Central   \n",
      "12047        Medical       Texas         TX        South Central   \n",
      "12048        Medical       Texas         TX        South Central   \n",
      "12049                 New Jersey         NJ            Northeast   \n",
      "\n",
      "            DATE_OF_BIRTH   AGE                      Age_Group  \\\n",
      "0     2001-03-05 08:00:00  23.0      Young Adult (18-24 years)   \n",
      "1     1979-07-26 07:00:00  45.0    Mid Adulthood (35-49 years)   \n",
      "2     1979-07-26 07:00:00  45.0    Mid Adulthood (35-49 years)   \n",
      "3     1989-10-07 07:00:00  35.0    Mid Adulthood (35-49 years)   \n",
      "4     2006-04-04 07:00:00  18.0      Young Adult (18-24 years)   \n",
      "...                   ...   ...                            ...   \n",
      "12045 2006-01-25 08:00:00  19.0      Young Adult (18-24 years)   \n",
      "12046 2006-01-25 08:00:00  19.0      Young Adult (18-24 years)   \n",
      "12047 1993-11-16 08:00:00  31.0  Early Adulthood (25-34 years)   \n",
      "12048 1979-11-30 08:00:00  45.0    Mid Adulthood (35-49 years)   \n",
      "12049 2005-02-12 05:00:00  19.0      Young Adult (18-24 years)   \n",
      "\n",
      "                       ORDER_ID INSURANCE_COVERAGE  DAYS_OF_SUPPLY  \\\n",
      "0      6614201bb3fe6df48d3e92f1         notCovered            30.0   \n",
      "1      664cde23600e7e3f254eebdc         notCovered            30.0   \n",
      "2      6655fc2edb2d27ccb657f4ef       No_insurance            30.0   \n",
      "3      667af276b220091a8df2cf81         notCovered            30.0   \n",
      "4      65e03e6f713fbc7bd8c76e4b         notCovered            30.0   \n",
      "...                         ...                ...             ...   \n",
      "12045  66352abdeb71f41b0c4e1f2a         notCovered            30.0   \n",
      "12046  6675d4aa585fffdcbf1c0e66       No_insurance            30.0   \n",
      "12047  65f87f94a01dfa564a10a94a         notCovered            30.0   \n",
      "12048  6616a3d327361b387ab08e58            covered            30.0   \n",
      "12049  66a3f3a3a10b487840111506         notCovered            30.0   \n",
      "\n",
      "                   CREATED_AT              SHIPPED_AT  \n",
      "0     2024-04-08 16:49:31.934 2024-04-19 13:58:58.794  \n",
      "1     2024-05-21 17:47:15.917 2024-05-28 17:26:37.686  \n",
      "2     2024-05-28 15:45:50.398                     NaT  \n",
      "3     2024-06-25 16:38:14.578 2024-07-09 19:51:27.950  \n",
      "4     2024-02-29 08:21:03.078 2024-03-11 11:14:19.147  \n",
      "...                       ...                     ...  \n",
      "12045 2024-05-03 18:19:41.143 2024-05-07 13:39:41.787  \n",
      "12046 2024-06-21 19:29:46.413                     NaT  \n",
      "12047 2024-03-18 17:53:24.012                     NaT  \n",
      "12048 2024-04-10 14:36:03.862 2024-07-24 18:33:47.751  \n",
      "12049 2024-07-26 19:06:11.196 2024-08-01 16:59:08.740  \n",
      "\n",
      "[12050 rows x 19 columns]\n"
     ]
    }
   ],
   "source": [
    "\n",
    "Doc_with_prescription_order = pd.merge(filtered_prescriptions, doctors, on='DOCTOR_ID', how='left')\n",
    "patients_data = pd.merge(Doc_with_prescription_order, patients, on='PATIENT_ID', how='left')\n",
    "overall_data = pd.merge(patients_data, filtered_orders, on='PRESCRIPTION_ID', how='left')\n",
    "print(overall_data)"
   ]
  },
  {
   "cell_type": "code",
   "execution_count": 164,
   "metadata": {},
   "outputs": [
    {
     "name": "stdout",
     "output_type": "stream",
     "text": [
      "             PRESCRIPTION_WRITTEN_AT                  DATE_OF_BIRTH  \\\n",
      "count                          12022                          12022   \n",
      "mean   2024-05-16 01:58:25.884206848  1996-09-11 07:49:15.581434112   \n",
      "min              2024-01-02 08:00:00            1948-04-13 05:00:00   \n",
      "25%              2024-04-11 16:00:00            1989-12-07 08:00:00   \n",
      "50%              2024-05-17 16:00:00            1999-05-28 04:00:00   \n",
      "75%              2024-06-21 16:00:00            2005-07-22 04:00:00   \n",
      "max              2024-08-02 16:00:00            2013-10-25 04:00:00   \n",
      "std                              NaN                            NaN   \n",
      "\n",
      "                AGE  DAYS_OF_SUPPLY                     CREATED_AT  \\\n",
      "count  12022.000000    12022.000000                          12022   \n",
      "mean      27.895941       30.134753  2024-05-30 00:25:18.500660736   \n",
      "min       11.000000       30.000000     2024-01-02 08:47:55.701000   \n",
      "25%       19.000000       30.000000  2024-04-26 20:48:55.028999936   \n",
      "50%       25.000000       30.000000  2024-06-04 18:40:40.300999936   \n",
      "75%       35.000000       30.000000  2024-07-05 07:22:16.723500032   \n",
      "max       76.000000       90.000000     2024-08-02 07:22:50.304000   \n",
      "std       11.065071        2.621028                            NaN   \n",
      "\n",
      "                          SHIPPED_AT  \n",
      "count                           6995  \n",
      "mean   2024-06-05 08:25:15.224639232  \n",
      "min       2024-01-04 19:40:00.420000  \n",
      "25%    2024-05-08 16:08:14.498499840  \n",
      "50%    2024-06-11 13:19:27.899000064  \n",
      "75%    2024-07-08 19:38:47.281499904  \n",
      "max       2024-08-01 23:02:11.692000  \n",
      "std                              NaN  \n",
      "PRESCRIPTION_ID               0\n",
      "PATIENT_ID                    0\n",
      "DOCTOR_ID                     0\n",
      "PRESCRIPTION_WRITTEN_AT       0\n",
      "SPECIALTY                    49\n",
      "NAME                         49\n",
      "Primary_Speciality           49\n",
      "Sub_Speciality               49\n",
      "STATE_NAME                   49\n",
      "STATE_CODE                   49\n",
      "GEOGRAPHICAL_REGIONS         49\n",
      "DATE_OF_BIRTH                 0\n",
      "AGE                           0\n",
      "Age_Group                     0\n",
      "ORDER_ID                      0\n",
      "INSURANCE_COVERAGE            0\n",
      "DAYS_OF_SUPPLY                0\n",
      "CREATED_AT                    0\n",
      "SHIPPED_AT                 5027\n",
      "dtype: int64\n"
     ]
    }
   ],
   "source": [
    "# drop rows with missing values in ORDER_ID, INSURANCE_COVERAGE, DAYS_OF_SUPPLY, CREATED_AT\n",
    "overall_data = overall_data.dropna(subset=['ORDER_ID', 'INSURANCE_COVERAGE', 'DAYS_OF_SUPPLY', 'CREATED_AT'])\n",
    "\n",
    "print(overall_data.describe())\n",
    "print(overall_data.isnull().sum())\n"
   ]
  },
  {
   "cell_type": "code",
   "execution_count": 165,
   "metadata": {},
   "outputs": [],
   "source": [
    "# Save to csv\n",
    "overall_data.to_csv('overall_data.csv', index=False)"
   ]
  },
  {
   "cell_type": "code",
   "execution_count": 63,
   "metadata": {},
   "outputs": [
    {
     "name": "stdout",
     "output_type": "stream",
     "text": [
      "                     DOCTOR_ID  Shipped_Order_Count\n",
      "788   65f1e8b34c2af3a97bb4afe4                   69\n",
      "722   65ea3005fa09400137ccc7ba                   69\n",
      "837   65f85ad8b8e2c65b0aedc1e5                   69\n",
      "597   654aadeec2ecb6743e5434a6                   62\n",
      "691   65e8a1704f6e802cba59e35c                   56\n",
      "...                        ...                  ...\n",
      "250   5d8d279a31f4d9000111507a                    0\n",
      "127   5b9c08e0fb435100a9d5033a                    0\n",
      "1500  66395d22316ffc9ee4b292d9                    0\n",
      "110   5b4e3165800fa100a90d624d                    0\n",
      "1588  66438851ab9208778c0bd3cb                    0\n",
      "\n",
      "[2277 rows x 2 columns]\n"
     ]
    }
   ],
   "source": [
    "# No of orders shipped by each doctor\n",
    "shipped_orders_by_doctor = overall_data.groupby('DOCTOR_ID')['SHIPPED_AT'].count().reset_index(name='Shipped_Order_Count')\n",
    "\n",
    "# Sort the DataFrame by 'Shipped_Order_Count' in descending order\n",
    "sorted_shipped_orders_by_doctor = shipped_orders_by_doctor.sort_values(by='Shipped_Order_Count', ascending=False)\n",
    "print(sorted_shipped_orders_by_doctor)\n"
   ]
  },
  {
   "cell_type": "code",
   "execution_count": 64,
   "metadata": {},
   "outputs": [
    {
     "name": "stdout",
     "output_type": "stream",
     "text": [
      "                     DOCTOR_ID  Prescribed_Order_Count\n",
      "837   65f85ad8b8e2c65b0aedc1e5                     105\n",
      "722   65ea3005fa09400137ccc7ba                      98\n",
      "672   65e7412923568e39ce7324a3                      97\n",
      "788   65f1e8b34c2af3a97bb4afe4                      90\n",
      "273   5dbb4f5bd2e12a0001a30540                      89\n",
      "...                        ...                     ...\n",
      "1447  663298a840196214e486fc1e                       1\n",
      "1454  663394a6f37c79bcdfdc5a79                       1\n",
      "1459  6633fdc8e076bc5465f7fc2d                       1\n",
      "1466  6634fb91d63df15f53cd9a9e                       1\n",
      "2276  66ad40d33a8f7c2d8a2604bc                       1\n",
      "\n",
      "[2277 rows x 2 columns]\n"
     ]
    }
   ],
   "source": [
    "# No of orders prescribed by each doctor\n",
    "prescribed_orders_by_doctor = overall_data.groupby('DOCTOR_ID')['PRESCRIPTION_ID'].count().reset_index(name='Prescribed_Order_Count')\n",
    "\n",
    "# Sort the DataFrame by 'Prescribed_Order_Count' in descending order\n",
    "sorted_prescribed_orders_by_doctor = prescribed_orders_by_doctor.sort_values(by='Prescribed_Order_Count', ascending=False)\n",
    "print(sorted_prescribed_orders_by_doctor)\n"
   ]
  },
  {
   "cell_type": "code",
   "execution_count": 65,
   "metadata": {},
   "outputs": [
    {
     "name": "stdout",
     "output_type": "stream",
     "text": [
      "4378\n",
      "Total Prescriptions: 8750\n",
      "Total Created Orders: 12022\n",
      "Total Shipped Orders: 6995\n",
      "Prescription to Created Order Ratio: 1.37\n",
      "Prescription to Shipped Order Ratio: 0.80\n",
      "Created Order to Shipped Order Ratio: 0.58\n",
      "Shipped Order with Unique Prescription Ratio: 0.50\n"
     ]
    }
   ],
   "source": [
    "# Get total unique counts\n",
    "total_prescriptions = overall_data['PRESCRIPTION_ID'].nunique()\n",
    "total_created_orders = overall_data['ORDER_ID'].nunique()\n",
    "total_shipped_orders = overall_data[overall_data['SHIPPED_AT'].notna()]['ORDER_ID'].nunique()\n",
    "\n",
    "shipped_data = overall_data[overall_data['SHIPPED_AT'].notnull()]\n",
    "# Group by 'PRESCRIPTION_ID' and count the number of unique 'ORDER_ID'\n",
    "shipped_order_with_unique_prescription = shipped_data[\"PRESCRIPTION_ID\"].nunique()\n",
    "print(shipped_order_with_unique_prescription)\n",
    "\n",
    "\n",
    "\n",
    "# Calculate conversion ratios\n",
    "ratio_prescriptions_to_created_orders = total_created_orders / total_prescriptions\n",
    "ratio_prescriptions_to_shipped_orders = total_shipped_orders / total_prescriptions\n",
    "ratio_created_orders_to_shipped_orders = total_shipped_orders / total_created_orders\n",
    "ratio_shipped_order_with_unique_prescription = shipped_order_with_unique_prescription / total_prescriptions\n",
    "\n",
    "# Print results\n",
    "print(f\"Total Prescriptions: {total_prescriptions}\")\n",
    "print(f\"Total Created Orders: {total_created_orders}\")\n",
    "print(f\"Total Shipped Orders: {total_shipped_orders}\")\n",
    "print(f\"Prescription to Created Order Ratio: {ratio_prescriptions_to_created_orders:.2f}\")\n",
    "print(f\"Prescription to Shipped Order Ratio: {ratio_prescriptions_to_shipped_orders:.2f}\")\n",
    "print(f\"Created Order to Shipped Order Ratio: {ratio_created_orders_to_shipped_orders:.2f}\")\n",
    "print(f\"Shipped Order with Unique Prescription Ratio: {ratio_shipped_order_with_unique_prescription:.2f}\")\n"
   ]
  },
  {
   "cell_type": "code",
   "execution_count": 66,
   "metadata": {},
   "outputs": [
    {
     "name": "stdout",
     "output_type": "stream",
     "text": [
      "8.30050035739814\n",
      "INSURANCE_COVERAGE\n",
      "No_insurance     7.375000\n",
      "covered          5.867190\n",
      "notCovered      10.206694\n",
      "Name: Time_to_Ship, dtype: float64\n"
     ]
    }
   ],
   "source": [
    "# Average Time to Ship an Order\n",
    "# Time difference between Created At and Ordered At\n",
    "overall_data['Time_to_Ship'] = (overall_data['SHIPPED_AT'] - overall_data['CREATED_AT']).dt.days\n",
    "print(overall_data['Time_to_Ship'].dropna().mean(   ))\n",
    "\n",
    "# Average time to ship for each insurance coverage type\n",
    "coverage_type_avg_time_to_ship = overall_data.groupby('INSURANCE_COVERAGE')['Time_to_Ship'].mean()\n",
    "print(coverage_type_avg_time_to_ship)\n"
   ]
  },
  {
   "cell_type": "code",
   "execution_count": 67,
   "metadata": {},
   "outputs": [
    {
     "name": "stdout",
     "output_type": "stream",
     "text": [
      "                Total_Shipped_Orders  Total_Created_Orders  \\\n",
      "STATE_NAME                                                   \n",
      "Rhode Island                      15                    20   \n",
      "South Dakota                      13                    18   \n",
      "Massachusetts                    209                   307   \n",
      "Minnesota                         40                    59   \n",
      "North Carolina                   282                   416   \n",
      "\n",
      "                Created_to_Shipping_Ratio  \n",
      "STATE_NAME                                 \n",
      "Rhode Island                     0.750000  \n",
      "South Dakota                     0.722222  \n",
      "Massachusetts                    0.680782  \n",
      "Minnesota                        0.677966  \n",
      "North Carolina                   0.677885  \n"
     ]
    }
   ],
   "source": [
    "# Created to Shipping Order Conversion Ratio across states\n",
    "# Calculate the total number of Shipped Orders / Prescription in each state\n",
    "Created_to_shipping_ratio = overall_data.groupby('STATE_NAME').agg(\n",
    "    Total_Shipped_Orders =('SHIPPED_AT', 'count'),\n",
    "    Total_Created_Orders =('CREATED_AT', 'count')\n",
    ")\n",
    "# Top 5 ratios in Decending Order\n",
    "Created_to_shipping_ratio['Created_to_Shipping_Ratio'] = Created_to_shipping_ratio['Total_Shipped_Orders'] / Created_to_shipping_ratio['Total_Created_Orders']\n",
    "Created_to_shipping_ratio = Created_to_shipping_ratio.sort_values(by='Created_to_Shipping_Ratio', ascending=False).head()\n",
    "print(Created_to_shipping_ratio)"
   ]
  },
  {
   "cell_type": "code",
   "execution_count": 68,
   "metadata": {},
   "outputs": [
    {
     "name": "stdout",
     "output_type": "stream",
     "text": [
      "Unique Doctors: 2277\n"
     ]
    }
   ],
   "source": [
    "# Calculate Total No of unique Doctors prescribing the drug\n",
    "unique_doctors = overall_data['DOCTOR_ID'].nunique()\n",
    "print(\"Unique Doctors:\", unique_doctors)"
   ]
  },
  {
   "cell_type": "code",
   "execution_count": 69,
   "metadata": {},
   "outputs": [
    {
     "name": "stdout",
     "output_type": "stream",
     "text": [
      "Unique Patient: 4361\n"
     ]
    }
   ],
   "source": [
    "# Calculate Total No of unique patients prescribing the drug if order shipped is not null\n",
    "unique_patient = overall_data[overall_data['SHIPPED_AT'].notna()]['PATIENT_ID'].nunique()\n",
    "print(\"Unique Patient:\", unique_patient)"
   ]
  },
  {
   "cell_type": "code",
   "execution_count": 70,
   "metadata": {},
   "outputs": [
    {
     "name": "stdout",
     "output_type": "stream",
     "text": [
      "Total Shipped Orders: 6995\n"
     ]
    }
   ],
   "source": [
    "# Calculate Total No of orders shipped\n",
    "total_shipped_orders = overall_data['SHIPPED_AT'].count()\n",
    "print(\"Total Shipped Orders:\", total_shipped_orders)\n"
   ]
  },
  {
   "cell_type": "markdown",
   "metadata": {},
   "source": [
    "### Active Doctors Prescribing our Medicine (Doctor Engagement Rate)"
   ]
  },
  {
   "cell_type": "code",
   "execution_count": 71,
   "metadata": {},
   "outputs": [
    {
     "name": "stdout",
     "output_type": "stream",
     "text": [
      "Number of doctors prescribing medication: 2277\n",
      "Total number of doctors: 2340\n",
      "Percentage of doctors prescribing medication: 97.31%\n"
     ]
    }
   ],
   "source": [
    "# Get the count of unique prescribing doctors\n",
    "unique_prescribing_doctors_count = overall_data['DOCTOR_ID'].nunique()\n",
    "\n",
    "# Get the total count of doctors\n",
    "total_doctors_count = doctors['DOCTOR_ID'].nunique()\n",
    "\n",
    "# Calculate the percentage of doctors prescribing medication\n",
    "percentage_prescribing_doctors = (unique_prescribing_doctors_count / total_doctors_count) * 100\n",
    "\n",
    "# Print the results\n",
    "print(f\"Number of doctors prescribing medication: {unique_prescribing_doctors_count}\")\n",
    "print(f\"Total number of doctors: {total_doctors_count}\")\n",
    "print(f\"Percentage of doctors prescribing medication: {percentage_prescribing_doctors:.2f}%\")"
   ]
  },
  {
   "cell_type": "code",
   "execution_count": 72,
   "metadata": {},
   "outputs": [
    {
     "name": "stdout",
     "output_type": "stream",
     "text": [
      "Unique_Order_Count\n",
      "1    6486\n",
      "2    1578\n",
      "3     456\n",
      "4     154\n",
      "5      63\n",
      "6      10\n",
      "7       3\n",
      "Name: count, dtype: int64\n"
     ]
    },
    {
     "data": {
      "image/png": "[encoded data removed]",
      "text/plain": [
       "<Figure size 1000x600 with 1 Axes>"
      ]
     },
     "metadata": {},
     "output_type": "display_data"
    }
   ],
   "source": [
    "#Redo from Above: \n",
    "# Group by 'PRESCRIPTION_ID' and count the number of unique 'ORDER_ID'\n",
    "unique_orders_per_prescription = overall_data.groupby(['DOCTOR_ID', 'PATIENT_ID','PRESCRIPTION_ID'])['ORDER_ID'].nunique().reset_index(name='Unique_Order_Count')\n",
    "\n",
    "# Sort the DataFrame by 'Unique_Order_Count' in descending order\n",
    "sorted_unique_orders_per_prescription = unique_orders_per_prescription.sort_values(by='Unique_Order_Count', ascending=False)\n",
    "\n",
    "#print(sorted_unique_orders_per_prescription)\n",
    "\n",
    "# Get the distribution of Unique_Order_Count\n",
    "distribution= sorted_unique_orders_per_prescription['Unique_Order_Count'].value_counts().sort_index()\n",
    "print(distribution)\n",
    "\n",
    "import matplotlib.pyplot as plt\n",
    "\n",
    "# Assuming 'distribution' is the Series with value counts\n",
    "# Plot the distribution as a bar chart\n",
    "plt.figure(figsize=(10, 6))\n",
    "plt.bar(distribution.index, distribution.values, color='#5BAbA6')  # Bars colored in sky blue (#87CEEB)\n",
    "plt.xlabel('Count')\n",
    "plt.ylabel('No of Orders')\n",
    "plt.title('Number of times the prescription was used to fill orders')\n",
    "plt.xticks(distribution.index)  # Show all unique order count values on x-axis\n",
    "plt.grid(axis='y', linestyle='--', alpha=0.7)\n",
    "plt.show()\n",
    "\n"
   ]
  },
  {
   "cell_type": "code",
   "execution_count": 73,
   "metadata": {},
   "outputs": [
    {
     "name": "stdout",
     "output_type": "stream",
     "text": [
      "              STATE_NAME  Unique_Prescription_Count\n",
      "42                 Texas                       1526\n",
      "9                Florida                       1235\n",
      "4             California                        862\n",
      "31              New York                        853\n",
      "29            New Jersey                        640\n",
      "34                  Ohio                        640\n",
      "13              Illinois                        530\n",
      "10               Georgia                        445\n",
      "32        North Carolina                        416\n",
      "2                Arizona                        312\n",
      "20         Massachusetts                        307\n",
      "21              Michigan                        293\n",
      "37          Pennsylvania                        291\n",
      "35              Oklahoma                        271\n",
      "39        South Carolina                        257\n",
      "44              Virginia                        245\n",
      "19              Maryland                        238\n",
      "0                Alabama                        211\n",
      "24              Missouri                        200\n",
      "27                Nevada                        193\n",
      "18             Louisiana                        177\n",
      "45            Washington                        136\n",
      "41             Tennessee                        134\n",
      "14               Indiana                        133\n",
      "47             Wisconsin                        130\n",
      "23           Mississippi                        129\n",
      "16                Kansas                        120\n",
      "36                Oregon                        114\n",
      "5               Colorado                        113\n",
      "33          North Dakota                         95\n",
      "6            Connecticut                         90\n",
      "3               Arkansas                         79\n",
      "43                  Utah                         76\n",
      "15                  Iowa                         64\n",
      "12                 Idaho                         63\n",
      "22             Minnesota                         59\n",
      "26              Nebraska                         52\n",
      "28         New Hampshire                         37\n",
      "30            New Mexico                         36\n",
      "46         West Virginia                         34\n",
      "17              Kentucky                         30\n",
      "8   District of Columbia                         26\n",
      "11                Hawaii                         22\n",
      "38          Rhode Island                         20\n",
      "40          South Dakota                         18\n",
      "7               Delaware                          8\n",
      "1                 Alaska                          7\n",
      "25               Montana                          6\n"
     ]
    }
   ],
   "source": [
    "# Number of Prescriptions per state\n",
    "unique_prescriptions_per_state = overall_data.groupby('STATE_NAME')['PRESCRIPTION_ID'].count().reset_index(name='Unique_Prescription_Count')\n",
    "# Print in Descending Order\n",
    "unique_prescriptions_per_state = unique_prescriptions_per_state.sort_values(by='Unique_Prescription_Count', ascending=False)\n",
    "print(unique_prescriptions_per_state)"
   ]
  },
  {
   "cell_type": "code",
   "execution_count": 78,
   "metadata": {},
   "outputs": [
    {
     "name": "stdout",
     "output_type": "stream",
     "text": [
      "The refill rate is: 72.75%\n",
      "\n",
      "Age Group Distribution for Patients Without Refills:\n",
      "Series([], Name: count, dtype: int64)\n",
      "\n",
      "Insurance Coverage Distribution for Patients Without Refills:\n",
      "Series([], Name: count, dtype: int64)\n"
     ]
    }
   ],
   "source": [
    "df = overall_data.copy()\n",
    "\n",
    "import pandas as pd\n",
    "from datetime import timedelta\n",
    "\n",
    "def calculate_refill_rate(df):\n",
    "    # Sort the dataframe by PATIENT_ID and CREATED_AT\n",
    "    df = df.sort_values(['PATIENT_ID','PRESCRIPTION_WRITTEN_AT', 'CREATED_AT'])\n",
    "    \n",
    "    # Group by PATIENT_ID\n",
    "    grouped = df.groupby(['PATIENT_ID','PRESCRIPTION_ID'])\n",
    "    \n",
    "    total_patients = df['ORDER_ID'].count()\n",
    "    #print(total_patients)\n",
    "    patients_with_refills = set()\n",
    "    patients_without_refills = set()\n",
    "    refills_for_patient = 0\n",
    "    \n",
    "    for patient_id, patient_df in grouped:\n",
    "        # Ensure the dataframe is sorted by CREATED_AT\n",
    "        patient_df = patient_df.sort_values('CREATED_AT')\n",
    "        \n",
    "        if len(patient_df) > 1:\n",
    "            for i in range(len(patient_df) - 1):\n",
    "                current_rx = patient_df.iloc[i]\n",
    "                next_rx = patient_df.iloc[i + 1]\n",
    "                \n",
    "                if i == 0:\n",
    "                    # Calculate the expected refill date based on PRESCRIPTION_WRITTEN_AT\n",
    "                    expected_refill_date = current_rx['PRESCRIPTION_WRITTEN_AT'] + timedelta(days=current_rx['DAYS_OF_SUPPLY'])\n",
    "                else:\n",
    "                    # Calculate the expected refill date based on SHIPPED_AT\n",
    "                    expected_refill_date = current_rx['SHIPPED_AT'] + timedelta(days=current_rx['DAYS_OF_SUPPLY'])\n",
    "                \n",
    "                # Check if the next prescription's CREATED_AT is within 7 days of the expected refill date\n",
    "                if 0 <= (next_rx['CREATED_AT'] - expected_refill_date).days <= 7:\n",
    "                    refills_for_patient += 1\n",
    "                    # Update the expected_refill_date to the new prescription's date\n",
    "                    expected_refill_date = next_rx['SHIPPED_AT'] + timedelta(days=next_rx['DAYS_OF_SUPPLY'])\n",
    "        \n",
    "        # Count the patient if they had at least one valid refill\n",
    "        if refills_for_patient > 0:\n",
    "            patients_with_refills.add(patient_id)\n",
    "        else:\n",
    "            patients_without_refills.add(patient_id)\n",
    "        \n",
    "    refill_rate = (len(patients_with_refills) / total_patients) * 100\n",
    "    # Extract data for patients without refills\n",
    "    patients_without_refills_df = df[df['PATIENT_ID'].isin(patients_without_refills)]\n",
    "    #patients_with_refills_df = df[df['PATIENT_ID'].isin(patients_with_refills)]\n",
    "    \n",
    "    # Analyze age group and insurance coverage for patients without refills\n",
    "    age_group_distribution = patients_without_refills_df['Age_Group'].value_counts()\n",
    "    insurance_coverage_distribution = patients_without_refills_df['INSURANCE_COVERAGE'].value_counts()\n",
    "\n",
    "    #age_group_distribution = patients_with_refills_df['Age_Group'].value_counts()\n",
    "    #insurance_coverage_distribution = patients_with_refills_df['INSURANCE_COVERAGE'].value_counts()\n",
    "\n",
    "    return refill_rate, age_group_distribution, insurance_coverage_distribution\n",
    "\n",
    "# Calculate refill rate and distributions\n",
    "refill_rate, age_group_distribution, insurance_coverage_distribution = calculate_refill_rate(df)\n",
    "\n",
    "print(f\"The refill rate is: {refill_rate:.2f}%\")\n",
    "print(\"\\nAge Group Distribution for Patients Without Refills:\")\n",
    "print(age_group_distribution)\n",
    "print(\"\\nInsurance Coverage Distribution for Patients Without Refills:\")\n",
    "print(insurance_coverage_distribution)"
   ]
  },
  {
   "cell_type": "code",
   "execution_count": 114,
   "metadata": {},
   "outputs": [
    {
     "name": "stdout",
     "output_type": "stream",
     "text": [
      "                    PATIENT_ID           PRESCRIPTION_ID  Number_of_Fills  \\\n",
      "0     5a83288837fb1000a85ab4fe  663d696d5dccd955f026d2dd                1   \n",
      "1     5ae35f264a029500a811ae92  6699605c8e800f17b44bad96                1   \n",
      "2     5b201e05ec7f5b00a93f2372  662be5a628b0f209c874e389                1   \n",
      "3     5b6afc45f4135f00b78e3aa0  65fe0a59cbeb659f0395f4cd                1   \n",
      "4     5bce01cd0bd67300a91debc5  667b06c3b220091a8df32fd0                1   \n",
      "...                        ...                       ...              ...   \n",
      "8745  66ac182e9c098317c694234f  66ac182e9c098317c6942354                1   \n",
      "8746  66ac1a8f9c098317c6942908  66ac1a8f9c098317c694290d                1   \n",
      "8747  66ac1bb4ea51f591c50015eb  66ac1bb4ea51f591c50015ef                1   \n",
      "8748  66ac1f499c098317c69430ac  66ac1f4a9c098317c69430b1                1   \n",
      "8749  66ac21939c098317c6943374  66ac21949c098317c694337b                1   \n",
      "\n",
      "      Number_of_Refills  \n",
      "0                     0  \n",
      "1                     0  \n",
      "2                     0  \n",
      "3                     0  \n",
      "4                     0  \n",
      "...                 ...  \n",
      "8745                  0  \n",
      "8746                  0  \n",
      "8747                  0  \n",
      "8748                  0  \n",
      "8749                  0  \n",
      "\n",
      "[8750 rows x 4 columns]\n",
      "Total Number of Fills: 8750\n",
      "Total Number of Refills: 0\n",
      "1\n"
     ]
    }
   ],
   "source": [
    "df = overall_data.copy()\n",
    "\n",
    "# Convert time columns to datetime if necessary\n",
    "df['CREATED_AT'] = pd.to_datetime(df['CREATED_AT'], format='%H:%M.%S', errors='coerce')\n",
    "df['SHIPPED_AT'] = pd.to_datetime(df['SHIPPED_AT'], format='%H:%M.%S', errors='coerce')\n",
    "\n",
    "# Sort data to ensure chronological order\n",
    "df = df.sort_values(['PATIENT_ID', 'PRESCRIPTION_ID', 'SHIPPED_AT'])\n",
    "\n",
    "# Identify fills and refills\n",
    "df['Is_Fill'] = df.groupby(['PATIENT_ID', 'PRESCRIPTION_ID']).cumcount() == 0\n",
    "df['Number_of_Fills'] = df.groupby(['PATIENT_ID', 'PRESCRIPTION_ID'])['Is_Fill'].transform('sum')\n",
    "df['Number_of_Refills'] = df['Number_of_Fills'] - 1  # Total fills - 1 is the number of refills\n",
    "\n",
    "# Aggregate results\n",
    "result = df.groupby(['PATIENT_ID', 'PRESCRIPTION_ID']).agg({\n",
    "    'Number_of_Fills': 'max',\n",
    "    'Number_of_Refills': 'max'\n",
    "}).reset_index()\n",
    "\n",
    "# Calculate and print sums\n",
    "total_fills = result['Number_of_Fills'].sum()\n",
    "total_refills = result['Number_of_Refills'].sum()  # Sum of refills, not the count of records\n",
    "\n",
    "# Calculate distribution of the number of refills\n",
    "refill_distribution = result['Number_of_Refills'].value_counts().sort_index()\n",
    "\n",
    "print(result)\n",
    "print(f\"Total Number of Fills: {total_fills}\")\n",
    "print(f\"Total Number of Refills: {total_refills}\")\n",
    "\n",
    "# Aggregate results by doctor\n",
    "doctor_refills = df.groupby(['DOCTOR_ID','PATIENT_ID', 'PRESCRIPTION_ID']).agg({\n",
    "    'Number_of_Refills': 'sum',\n",
    "    'PATIENT_ID': 'count'  # count prescriptions or orders\n",
    "}).rename(columns={'PATIENT_ID': 'Number_of_Prescriptions'}).reset_index()\n",
    "\n",
    "print(result[\"Number_of_Fills\"].nunique())"
   ]
  }
 ],
 "metadata": {
  "kernelspec": {
   "display_name": "Python 3",
   "language": "python",
   "name": "python3"
  },
  "language_info": {
   "codemirror_mode": {
    "name": "ipython",
    "version": 3
   },
   "file_extension": ".py",
   "mimetype": "text/x-python",
   "name": "python",
   "nbconvert_exporter": "python",
   "pygments_lexer": "ipython3",
   "version": "3.12.0"
  }
 },
 "nbformat": 4,
 "nbformat_minor": 2
}
